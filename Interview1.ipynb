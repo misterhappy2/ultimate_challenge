{
 "cells": [
  {
   "cell_type": "markdown",
   "metadata": {},
   "source": [
    "## Interview Challenge 1"
   ]
  },
  {
   "cell_type": "markdown",
   "metadata": {},
   "source": [
    "### Part 1 ‑ Exploratory data analysis  \n",
    "<div class=\"span5 alert alert-info\">  The attached logins.json file contains (simulated) timestamps of user logins in a particular\n",
    "geographic location. Aggregate these login counts based on 15­minute time intervals, and\n",
    "visualize and describe the resulting time series of login counts in ways that best characterize the\n",
    "underlying patterns of the demand. Please report/illustrate important features of the demand,\n",
    "such as daily cycles. If there are data quality issues, please report them.\n",
    "</div>  "
   ]
  },
  {
   "cell_type": "code",
   "execution_count": 55,
   "metadata": {},
   "outputs": [],
   "source": [
    "# import packages \n",
    "import numpy as np\n",
    "import pandas as pd\n",
    "import json\n",
    "from pandas.io.json import json_normalize\n",
    "import matplotlib.pyplot as plt\n",
    "%matplotlib inline"
   ]
  },
  {
   "cell_type": "code",
   "execution_count": 56,
   "metadata": {},
   "outputs": [
    {
     "name": "stdout",
     "output_type": "stream",
     "text": [
      "<class 'pandas.core.frame.DataFrame'>\n",
      "93142\n"
     ]
    }
   ],
   "source": [
    "# load login jsons into data frame\n",
    "filepath = '/Users/brentmarijensen//ultimate_challenge/logins.json'\n",
    "df = pd.read_json(filepath)\n",
    "\n",
    "print(type(df))\n",
    "print(len(df['login_time']))\n",
    "df_copy = df"
   ]
  },
  {
   "cell_type": "code",
   "execution_count": 57,
   "metadata": {},
   "outputs": [
    {
     "name": "stdout",
     "output_type": "stream",
     "text": [
      "type <class 'pandas.core.frame.DataFrame'>\n",
      "shape (93142, 1)\n",
      "\n",
      "<class 'pandas.core.frame.DataFrame'>\n",
      "Int64Index: 93142 entries, 0 to 93141\n",
      "Data columns (total 1 columns):\n",
      "login_time    93142 non-null datetime64[ns]\n",
      "dtypes: datetime64[ns](1)\n",
      "memory usage: 1.4 MB\n",
      "info None\n",
      "\n",
      "columns: Index(['login_time'], dtype='object')\n",
      "           login_time\n",
      "0 1970-01-01 20:13:18\n",
      "1 1970-01-01 20:16:10\n",
      "2 1970-01-01 20:16:37\n",
      "3 1970-01-01 20:16:36\n",
      "4 1970-01-01 20:26:21\n"
     ]
    },
    {
     "data": {
      "text/html": [
       "<div>\n",
       "<style scoped>\n",
       "    .dataframe tbody tr th:only-of-type {\n",
       "        vertical-align: middle;\n",
       "    }\n",
       "\n",
       "    .dataframe tbody tr th {\n",
       "        vertical-align: top;\n",
       "    }\n",
       "\n",
       "    .dataframe thead th {\n",
       "        text-align: right;\n",
       "    }\n",
       "</style>\n",
       "<table border=\"1\" class=\"dataframe\">\n",
       "  <thead>\n",
       "    <tr style=\"text-align: right;\">\n",
       "      <th></th>\n",
       "      <th>login_time</th>\n",
       "    </tr>\n",
       "  </thead>\n",
       "  <tbody>\n",
       "    <tr>\n",
       "      <th>93137</th>\n",
       "      <td>1970-04-13 18:50:19</td>\n",
       "    </tr>\n",
       "    <tr>\n",
       "      <th>93138</th>\n",
       "      <td>1970-04-13 18:43:56</td>\n",
       "    </tr>\n",
       "    <tr>\n",
       "      <th>93139</th>\n",
       "      <td>1970-04-13 18:54:02</td>\n",
       "    </tr>\n",
       "    <tr>\n",
       "      <th>93140</th>\n",
       "      <td>1970-04-13 18:57:38</td>\n",
       "    </tr>\n",
       "    <tr>\n",
       "      <th>93141</th>\n",
       "      <td>1970-04-13 18:54:23</td>\n",
       "    </tr>\n",
       "  </tbody>\n",
       "</table>\n",
       "</div>"
      ],
      "text/plain": [
       "               login_time\n",
       "93137 1970-04-13 18:50:19\n",
       "93138 1970-04-13 18:43:56\n",
       "93139 1970-04-13 18:54:02\n",
       "93140 1970-04-13 18:57:38\n",
       "93141 1970-04-13 18:54:23"
      ]
     },
     "execution_count": 57,
     "metadata": {},
     "output_type": "execute_result"
    }
   ],
   "source": [
    "print('type', type(df))\n",
    "print('shape', df.shape)\n",
    "print('')\n",
    "print('info',df.info())\n",
    "print('')\n",
    "print('columns:',df.columns)\n",
    "print(df.head())\n",
    "df.tail()"
   ]
  },
  {
   "cell_type": "markdown",
   "metadata": {},
   "source": [
    "\"logins.json\" data is a list of datetimes.  No non-null values.  Range from Jan 1 to April 13, 1970, 103 days.  \n",
    "Histogram below shows no missing days.  The graph shows a weekly pattern.  It appears that Fri and Sat are the busiest days.  Jan 1 1970 was a Thursday.  \n",
    "Logins steadily increased over the 3.4 months."
   ]
  },
  {
   "cell_type": "code",
   "execution_count": 58,
   "metadata": {},
   "outputs": [
    {
     "data": {
      "image/png": "[encoded data removed]",
      "text/plain": [
       "<matplotlib.figure.Figure at 0x10cfbc2b0>"
      ]
     },
     "metadata": {},
     "output_type": "display_data"
    }
   ],
   "source": [
    "# plot the login data\n",
    "_= df.login_time.hist(bins=103, figsize=(11,7))\n",
    "_= plt.title('Number of Logins per day')\n",
    "_= plt.xlabel('Login date')\n",
    "_= plt.ylabel('Count of Logins')\n",
    "plt.show()"
   ]
  },
  {
   "cell_type": "code",
   "execution_count": 59,
   "metadata": {},
   "outputs": [
    {
     "data": {
      "image/png": "[encoded data removed]",
      "text/plain": [
       "<matplotlib.figure.Figure at 0x10d6964e0>"
      ]
     },
     "metadata": {},
     "output_type": "display_data"
    }
   ],
   "source": [
    "df.set_index(df.login_time, inplace=True)\n",
    "df.groupby(pd.Grouper(freq = '15Min'))\n",
    "groups_15m = df.resample('15Min').count()\n",
    "\n",
    "_= groups_15m.hist(bins=300,figsize=(11,7))\n",
    "_= plt.title('Number of 15 minute Intervals with Logins')\n",
    "_= plt.xlabel('Logins per interval')\n",
    "_= plt.ylabel('Count of intervals')\n",
    "plt.show()"
   ]
  },
  {
   "cell_type": "code",
   "execution_count": 61,
   "metadata": {},
   "outputs": [
    {
     "data": {
      "image/png": "[encoded data removed]",
      "text/plain": [
       "<matplotlib.figure.Figure at 0x10cf3e080>"
      ]
     },
     "metadata": {},
     "output_type": "display_data"
    }
   ],
   "source": [
    "# plot a single day  Feb 4, Wednesday\n",
    "groups_15m['1970-02-04': '1970-02-04'].plot(figsize=(7,4))\n",
    "plt.ylabel('Count of logins')\n",
    "plt.show()"
   ]
  },
  {
   "cell_type": "code",
   "execution_count": 62,
   "metadata": {},
   "outputs": [
    {
     "data": {
      "image/png": "[encoded data removed]",
      "text/plain": [
       "<matplotlib.figure.Figure at 0x11082c9e8>"
      ]
     },
     "metadata": {},
     "output_type": "display_data"
    }
   ],
   "source": [
    "# plot a single day  Feb 7, Saturday\n",
    "groups_15m['1970-02-07': '1970-02-07'].plot(figsize=(7,4))\n",
    "plt.ylabel('Count of logins')\n",
    "plt.show()"
   ]
  },
  {
   "cell_type": "markdown",
   "metadata": {},
   "source": [
    "On Wed Feb 4, a surge of logins occured from 11am to 3pm, with another surge late at night from 9pm to 2am.  This may reflect lunch time riders or food deliveries, and late night rides home from bars or restaurants.  \n",
    "On Sat Feb 7, logins were heavy from 12am to 4am, with a large surge at 4am!  (Is last call in Gotham at 4am?)  \n",
    "Sat logins far outpaced Wed logins.  \n",
    "Note: this is just a quick sample of two days.  Below is a count of each day of the week, and each hour of the day, cumulative over the 103 day period."
   ]
  },
  {
   "cell_type": "code",
   "execution_count": 63,
   "metadata": {},
   "outputs": [
    {
     "name": "stdout",
     "output_type": "stream",
     "text": [
      "number of rides by day of the week (Sun-Sat):\n",
      "0     8823\n",
      "1     9268\n",
      "2    10339\n",
      "3    11960\n",
      "4    15208\n",
      "5    19377\n",
      "6    18167\n",
      "Name: day_of_week, dtype: int64\n",
      "weekend total: 37544.0 per day: 18772.0\n",
      "weekday total: 55598.0 per day: 11119.6\n",
      " \n",
      "number of rides by hour of day:\n",
      "0     5993\n",
      "1     6317\n",
      "2     5800\n",
      "3     4831\n",
      "4     5034\n",
      "5     2945\n",
      "6     1138\n",
      "7      815\n",
      "8      818\n",
      "9     1527\n",
      "10    3064\n",
      "11    5799\n",
      "12    4964\n",
      "13    3611\n",
      "14    3426\n",
      "15    3038\n",
      "16    2832\n",
      "17    2584\n",
      "18    2980\n",
      "19    3235\n",
      "20    4103\n",
      "21    5623\n",
      "22    6607\n",
      "23    6058\n",
      "Name: hour, dtype: int64\n"
     ]
    }
   ],
   "source": [
    "# count number of rides by day of the week and by hour of the day\n",
    "df['day_of_week'] = (pd.DatetimeIndex(df.index).dayofweek)\n",
    "print('number of rides by day of the week (Sun-Sat):')\n",
    "print(df['day_of_week'].value_counts().sort_index())\n",
    "df['weekend'] = (df.day_of_week // 5 == 1).astype(float)\n",
    "df[\"weekday\"] = (df.day_of_week < 5).astype(float)\n",
    "print('weekend total:', df.weekend.sum(), 'per day:', df.weekend.sum()/2)\n",
    "print('weekday total:', df.weekday.sum(), 'per day:', df.weekday.sum()/5)\n",
    "\n",
    "print(' ')\n",
    "df['hour'] = (pd.DatetimeIndex(df.index).hour)\n",
    "print('number of rides by hour of day:')\n",
    "print(df.hour.value_counts().sort_index())"
   ]
  },
  {
   "cell_type": "code",
   "execution_count": 66,
   "metadata": {},
   "outputs": [
    {
     "data": {
      "text/plain": [
       "Text(0.5,1,'Logins by day_of_week')"
      ]
     },
     "execution_count": 66,
     "metadata": {},
     "output_type": "execute_result"
    },
    {
     "data": {
      "image/png": "[encoded data removed]",
      "text/plain": [
       "<matplotlib.figure.Figure at 0x10d93b8d0>"
      ]
     },
     "metadata": {},
     "output_type": "display_data"
    }
   ],
   "source": [
    "sns.countplot(df.day_of_week)\n",
    "plt.title('Logins by day_of_week')"
   ]
  },
  {
   "cell_type": "code",
   "execution_count": 65,
   "metadata": {},
   "outputs": [
    {
     "data": {
      "text/plain": [
       "Text(0.5,1,'Logins by hour')"
      ]
     },
     "execution_count": 65,
     "metadata": {},
     "output_type": "execute_result"
    },
    {
     "data": {
      "image/png": "[encoded data removed]",
      "text/plain": [
       "<matplotlib.figure.Figure at 0x10e9a4208>"
      ]
     },
     "metadata": {},
     "output_type": "display_data"
    }
   ],
   "source": [
    "sns.countplot(df.hour)\n",
    "plt.title('Logins by hour')"
   ]
  },
  {
   "cell_type": "markdown",
   "metadata": {},
   "source": [
    "### Part 2 ‑ Experiment and metrics design  \n",
    "<div class=\"span5 alert alert-info\">  The neighboring cities of Gotham and Metropolis have complementary circadian rhythms: on\n",
    "weekdays, Ultimate Gotham is most active at night, and Ultimate Metropolis is most active during the day. On weekends, there is reasonable activity in both cities.  \n",
    "However, a toll bridge, with a two­way toll, between the two cities causes driver partners to tend to be exclusive to each city. The Ultimate managers of city operations for the two cities have proposed an experiment to encourage driver partners to be available in both cities, by reimbursing all toll costs.  \n",
    "1. What would you choose as the key measure of success of this experiment in encouraging driver partners to serve both cities, and why would you choose this metric?  \n",
    "2. Describe a practical experiment you would design to compare the effectiveness of the proposed change in relation to the key measure of success. Please provide details on:  \n",
    "a. how you will implement the experiment  \n",
    "b. what statistical test(s) you will conduct to verify the significance of the observation  \n",
    "c. how you would interpret the results and provide recommendations to the city operations team along with any caveats.  \n",
    "</div>"
   ]
  },
  {
   "cell_type": "markdown",
   "metadata": {},
   "source": [
    "1 To answer the question directly, we could count number of drivers who cross the bridge.  Measure logins on the bridge between the cities.  \n",
    "\n",
    "However, I sense an assumption that more driver mobility might increase availability and thus rider engagement and satisfaction.  It's good to check.  I'd measure engagement and satisfaction.  These metrics should be available by ratings, number of rides, and wait times.   \n",
    "\n",
    "I'd also measure change in revenue.  If profitability doesn't increase, it may not be worth the cost.\n",
    "\n",
    "2 I propose an A/B test with random drivers reimbursed for bridge tolls, and others not.  The test should run for several weeks, to factor out day variability and seasonality.  Measure *bridge logins*, to see if they make use of the program, and then measure *user ratings*, *number of rides*, *wait times*, and *revenue*.  Compare the metrics between pilot group to control group, and measure statistical significance with a hypothesis test.  \n",
    "\n",
    "If the test does not show significant benefit, I recommend to discontinue the test.  \n",
    "If the test shows a significant change and benefit, then I'd provide a report of all the measurements, and recommend a full rollout.  \n",
    "A full rollout could be 100% reimbursement to all drivers, or the reimbursement could be used as incentive for drivers who hit minimum numbers of hours or rides.  It could also be used at certain times or days (with the hope that drivers might cross the bridge more often even when not reimbursed.)  "
   ]
  },
  {
   "cell_type": "markdown",
   "metadata": {},
   "source": [
    "### Part 3 ‑ Predictive modeling\n",
    "<div class=\"span5 alert alert-info\">  \n",
    "Ultimate is interested in predicting rider retention. To help explore this question, we have provided a sample dataset of a cohort of users who signed up for an Ultimate account in January 2014. The data was pulled several months later; we consider a user retained if they were “active” (i.e. took a trip) in the preceding 30 days.\n",
    "We would like you to use this data set to help understand what factors are the best predictors for retention, and offer suggestions to operationalize those insights to help Ultimate.\n",
    "\n",
    "The data is in the attached file ultimate_data_challenge.json. See below for a detailed description of the dataset. Please include any code you wrote for the analysis and delete the dataset when you have finished with the challenge.  \n",
    "1. Perform any cleaning, exploratory analysis, and/or visualizations to use the provided data for this analysis (a few sentences/plots describing your approach will suffice). What fraction of the observed users were retained?  \n",
    "2. Build a predictive model to help Ultimate determine whether or not a user will be active in their 6th month on the system. Discuss why you chose your approach, what alternatives you considered, and any concerns you have. How valid is your model?  Include any key indicators of model performance.  \n",
    "3. Briefly discuss how Ultimate might leverage the insights gained from the model to improve its long­term rider retention (again, a few sentences will suffice).   \n",
    "Data description:  \n",
    "● city: city this user signed up in  \n",
    "● phone: primary device for this user  \n",
    "● signup_date: date of account registration; in the form ‘YYYYMMDD’  \n",
    "● last_trip_date: the last time this user completed a trip; in the form ‘YYYYMMDD’  \n",
    "● avg_dist: the average distance in miles per trip taken in the first 30 days after signup  \n",
    "● avg_rating_by_driver: the rider’s average rating over all of their trips  \n",
    "● avg_rating_of_driver: the rider’s average rating of their drivers over all of their trips  \n",
    "● surge_pct: the percent of trips taken with surge multiplier > 1  \n",
    "● avg_surge: The average surge multiplier over all of this user’s trips  \n",
    "● trips_in_first_30_days: the number of trips this user took in the first 30 days after signing up  \n",
    "● ultimate_black_user: TRUE if the user took an Ultimate Black in their first 30 days; FALSE otherwise  \n",
    "● weekday_pct: the percent of the user’s trips occurring during a weekday  \n",
    "</div>"
   ]
  },
  {
   "cell_type": "code",
   "execution_count": 69,
   "metadata": {},
   "outputs": [
    {
     "name": "stdout",
     "output_type": "stream",
     "text": [
      "<class 'pandas.core.frame.DataFrame'>\n",
      "50000\n"
     ]
    }
   ],
   "source": [
    "# import packages \n",
    "import numpy as np\n",
    "import pandas as pd\n",
    "import json\n",
    "from pandas.io.json import json_normalize\n",
    "import matplotlib.pyplot as plt\n",
    "%matplotlib inline\n",
    "\n",
    "# load login jsons into data frame\n",
    "# I was unable to open it directly with pd.read_json, got ValueError, so there is bad data\n",
    "filepath2 = '/Users/brentmarijensen//ultimate_challenge/ultimate_data_challenge.json'\n",
    "with open(filepath2) as file:\n",
    "    data = json.load(file)\n",
    "ultimate = pd.DataFrame(data)\n",
    "\n",
    "print(type(ultimate))\n",
    "print(len(ultimate))\n",
    "ultimate_copy = ultimate"
   ]
  },
  {
   "cell_type": "code",
   "execution_count": 70,
   "metadata": {},
   "outputs": [
    {
     "data": {
      "text/html": [
       "<div>\n",
       "<style scoped>\n",
       "    .dataframe tbody tr th:only-of-type {\n",
       "        vertical-align: middle;\n",
       "    }\n",
       "\n",
       "    .dataframe tbody tr th {\n",
       "        vertical-align: top;\n",
       "    }\n",
       "\n",
       "    .dataframe thead th {\n",
       "        text-align: right;\n",
       "    }\n",
       "</style>\n",
       "<table border=\"1\" class=\"dataframe\">\n",
       "  <thead>\n",
       "    <tr style=\"text-align: right;\">\n",
       "      <th></th>\n",
       "      <th>avg_dist</th>\n",
       "      <th>avg_rating_by_driver</th>\n",
       "      <th>avg_rating_of_driver</th>\n",
       "      <th>avg_surge</th>\n",
       "      <th>city</th>\n",
       "      <th>last_trip_date</th>\n",
       "      <th>phone</th>\n",
       "      <th>signup_date</th>\n",
       "      <th>surge_pct</th>\n",
       "      <th>trips_in_first_30_days</th>\n",
       "      <th>ultimate_black_user</th>\n",
       "      <th>weekday_pct</th>\n",
       "    </tr>\n",
       "  </thead>\n",
       "  <tbody>\n",
       "    <tr>\n",
       "      <th>0</th>\n",
       "      <td>3.67</td>\n",
       "      <td>5.0</td>\n",
       "      <td>4.7</td>\n",
       "      <td>1.10</td>\n",
       "      <td>King's Landing</td>\n",
       "      <td>2014-06-17</td>\n",
       "      <td>iPhone</td>\n",
       "      <td>2014-01-25</td>\n",
       "      <td>15.4</td>\n",
       "      <td>4</td>\n",
       "      <td>True</td>\n",
       "      <td>46.2</td>\n",
       "    </tr>\n",
       "    <tr>\n",
       "      <th>1</th>\n",
       "      <td>8.26</td>\n",
       "      <td>5.0</td>\n",
       "      <td>5.0</td>\n",
       "      <td>1.00</td>\n",
       "      <td>Astapor</td>\n",
       "      <td>2014-05-05</td>\n",
       "      <td>Android</td>\n",
       "      <td>2014-01-29</td>\n",
       "      <td>0.0</td>\n",
       "      <td>0</td>\n",
       "      <td>False</td>\n",
       "      <td>50.0</td>\n",
       "    </tr>\n",
       "    <tr>\n",
       "      <th>2</th>\n",
       "      <td>0.77</td>\n",
       "      <td>5.0</td>\n",
       "      <td>4.3</td>\n",
       "      <td>1.00</td>\n",
       "      <td>Astapor</td>\n",
       "      <td>2014-01-07</td>\n",
       "      <td>iPhone</td>\n",
       "      <td>2014-01-06</td>\n",
       "      <td>0.0</td>\n",
       "      <td>3</td>\n",
       "      <td>False</td>\n",
       "      <td>100.0</td>\n",
       "    </tr>\n",
       "    <tr>\n",
       "      <th>3</th>\n",
       "      <td>2.36</td>\n",
       "      <td>4.9</td>\n",
       "      <td>4.6</td>\n",
       "      <td>1.14</td>\n",
       "      <td>King's Landing</td>\n",
       "      <td>2014-06-29</td>\n",
       "      <td>iPhone</td>\n",
       "      <td>2014-01-10</td>\n",
       "      <td>20.0</td>\n",
       "      <td>9</td>\n",
       "      <td>True</td>\n",
       "      <td>80.0</td>\n",
       "    </tr>\n",
       "    <tr>\n",
       "      <th>4</th>\n",
       "      <td>3.13</td>\n",
       "      <td>4.9</td>\n",
       "      <td>4.4</td>\n",
       "      <td>1.19</td>\n",
       "      <td>Winterfell</td>\n",
       "      <td>2014-03-15</td>\n",
       "      <td>Android</td>\n",
       "      <td>2014-01-27</td>\n",
       "      <td>11.8</td>\n",
       "      <td>14</td>\n",
       "      <td>False</td>\n",
       "      <td>82.4</td>\n",
       "    </tr>\n",
       "  </tbody>\n",
       "</table>\n",
       "</div>"
      ],
      "text/plain": [
       "   avg_dist  avg_rating_by_driver  avg_rating_of_driver  avg_surge  \\\n",
       "0      3.67                   5.0                   4.7       1.10   \n",
       "1      8.26                   5.0                   5.0       1.00   \n",
       "2      0.77                   5.0                   4.3       1.00   \n",
       "3      2.36                   4.9                   4.6       1.14   \n",
       "4      3.13                   4.9                   4.4       1.19   \n",
       "\n",
       "             city last_trip_date    phone signup_date  surge_pct  \\\n",
       "0  King's Landing     2014-06-17   iPhone  2014-01-25       15.4   \n",
       "1         Astapor     2014-05-05  Android  2014-01-29        0.0   \n",
       "2         Astapor     2014-01-07   iPhone  2014-01-06        0.0   \n",
       "3  King's Landing     2014-06-29   iPhone  2014-01-10       20.0   \n",
       "4      Winterfell     2014-03-15  Android  2014-01-27       11.8   \n",
       "\n",
       "   trips_in_first_30_days  ultimate_black_user  weekday_pct  \n",
       "0                       4                 True         46.2  \n",
       "1                       0                False         50.0  \n",
       "2                       3                False        100.0  \n",
       "3                       9                 True         80.0  \n",
       "4                      14                False         82.4  "
      ]
     },
     "execution_count": 70,
     "metadata": {},
     "output_type": "execute_result"
    }
   ],
   "source": [
    "ultimate.head()"
   ]
  },
  {
   "cell_type": "code",
   "execution_count": 71,
   "metadata": {},
   "outputs": [
    {
     "name": "stdout",
     "output_type": "stream",
     "text": [
      "type <class 'pandas.core.frame.DataFrame'>\n",
      "shape (50000, 12)\n",
      "\n",
      "<class 'pandas.core.frame.DataFrame'>\n",
      "RangeIndex: 50000 entries, 0 to 49999\n",
      "Data columns (total 12 columns):\n",
      "avg_dist                  50000 non-null float64\n",
      "avg_rating_by_driver      49799 non-null float64\n",
      "avg_rating_of_driver      41878 non-null float64\n",
      "avg_surge                 50000 non-null float64\n",
      "city                      50000 non-null object\n",
      "last_trip_date            50000 non-null object\n",
      "phone                     49604 non-null object\n",
      "signup_date               50000 non-null object\n",
      "surge_pct                 50000 non-null float64\n",
      "trips_in_first_30_days    50000 non-null int64\n",
      "ultimate_black_user       50000 non-null bool\n",
      "weekday_pct               50000 non-null float64\n",
      "dtypes: bool(1), float64(6), int64(1), object(4)\n",
      "memory usage: 4.2+ MB\n",
      "info None\n",
      "\n",
      "columns: Index(['avg_dist', 'avg_rating_by_driver', 'avg_rating_of_driver', 'avg_surge',\n",
      "       'city', 'last_trip_date', 'phone', 'signup_date', 'surge_pct',\n",
      "       'trips_in_first_30_days', 'ultimate_black_user', 'weekday_pct'],\n",
      "      dtype='object')\n"
     ]
    },
    {
     "data": {
      "text/html": [
       "<div>\n",
       "<style scoped>\n",
       "    .dataframe tbody tr th:only-of-type {\n",
       "        vertical-align: middle;\n",
       "    }\n",
       "\n",
       "    .dataframe tbody tr th {\n",
       "        vertical-align: top;\n",
       "    }\n",
       "\n",
       "    .dataframe thead th {\n",
       "        text-align: right;\n",
       "    }\n",
       "</style>\n",
       "<table border=\"1\" class=\"dataframe\">\n",
       "  <thead>\n",
       "    <tr style=\"text-align: right;\">\n",
       "      <th></th>\n",
       "      <th>avg_dist</th>\n",
       "      <th>avg_rating_by_driver</th>\n",
       "      <th>avg_rating_of_driver</th>\n",
       "      <th>avg_surge</th>\n",
       "      <th>city</th>\n",
       "      <th>last_trip_date</th>\n",
       "      <th>phone</th>\n",
       "      <th>signup_date</th>\n",
       "      <th>surge_pct</th>\n",
       "      <th>trips_in_first_30_days</th>\n",
       "      <th>ultimate_black_user</th>\n",
       "      <th>weekday_pct</th>\n",
       "    </tr>\n",
       "  </thead>\n",
       "  <tbody>\n",
       "    <tr>\n",
       "      <th>49995</th>\n",
       "      <td>5.63</td>\n",
       "      <td>4.2</td>\n",
       "      <td>5.0</td>\n",
       "      <td>1.0</td>\n",
       "      <td>King's Landing</td>\n",
       "      <td>2014-06-05</td>\n",
       "      <td>iPhone</td>\n",
       "      <td>2014-01-25</td>\n",
       "      <td>0.0</td>\n",
       "      <td>0</td>\n",
       "      <td>False</td>\n",
       "      <td>100.0</td>\n",
       "    </tr>\n",
       "    <tr>\n",
       "      <th>49996</th>\n",
       "      <td>0.00</td>\n",
       "      <td>4.0</td>\n",
       "      <td>NaN</td>\n",
       "      <td>1.0</td>\n",
       "      <td>Astapor</td>\n",
       "      <td>2014-01-25</td>\n",
       "      <td>iPhone</td>\n",
       "      <td>2014-01-24</td>\n",
       "      <td>0.0</td>\n",
       "      <td>1</td>\n",
       "      <td>False</td>\n",
       "      <td>0.0</td>\n",
       "    </tr>\n",
       "    <tr>\n",
       "      <th>49997</th>\n",
       "      <td>3.86</td>\n",
       "      <td>5.0</td>\n",
       "      <td>5.0</td>\n",
       "      <td>1.0</td>\n",
       "      <td>Winterfell</td>\n",
       "      <td>2014-05-22</td>\n",
       "      <td>Android</td>\n",
       "      <td>2014-01-31</td>\n",
       "      <td>0.0</td>\n",
       "      <td>0</td>\n",
       "      <td>True</td>\n",
       "      <td>100.0</td>\n",
       "    </tr>\n",
       "    <tr>\n",
       "      <th>49998</th>\n",
       "      <td>4.58</td>\n",
       "      <td>3.5</td>\n",
       "      <td>3.0</td>\n",
       "      <td>1.0</td>\n",
       "      <td>Astapor</td>\n",
       "      <td>2014-01-15</td>\n",
       "      <td>iPhone</td>\n",
       "      <td>2014-01-14</td>\n",
       "      <td>0.0</td>\n",
       "      <td>2</td>\n",
       "      <td>False</td>\n",
       "      <td>100.0</td>\n",
       "    </tr>\n",
       "    <tr>\n",
       "      <th>49999</th>\n",
       "      <td>3.49</td>\n",
       "      <td>5.0</td>\n",
       "      <td>NaN</td>\n",
       "      <td>1.0</td>\n",
       "      <td>Astapor</td>\n",
       "      <td>2014-04-20</td>\n",
       "      <td>Android</td>\n",
       "      <td>2014-01-18</td>\n",
       "      <td>0.0</td>\n",
       "      <td>0</td>\n",
       "      <td>False</td>\n",
       "      <td>0.0</td>\n",
       "    </tr>\n",
       "  </tbody>\n",
       "</table>\n",
       "</div>"
      ],
      "text/plain": [
       "       avg_dist  avg_rating_by_driver  avg_rating_of_driver  avg_surge  \\\n",
       "49995      5.63                   4.2                   5.0        1.0   \n",
       "49996      0.00                   4.0                   NaN        1.0   \n",
       "49997      3.86                   5.0                   5.0        1.0   \n",
       "49998      4.58                   3.5                   3.0        1.0   \n",
       "49999      3.49                   5.0                   NaN        1.0   \n",
       "\n",
       "                 city last_trip_date    phone signup_date  surge_pct  \\\n",
       "49995  King's Landing     2014-06-05   iPhone  2014-01-25        0.0   \n",
       "49996         Astapor     2014-01-25   iPhone  2014-01-24        0.0   \n",
       "49997      Winterfell     2014-05-22  Android  2014-01-31        0.0   \n",
       "49998         Astapor     2014-01-15   iPhone  2014-01-14        0.0   \n",
       "49999         Astapor     2014-04-20  Android  2014-01-18        0.0   \n",
       "\n",
       "       trips_in_first_30_days  ultimate_black_user  weekday_pct  \n",
       "49995                       0                False        100.0  \n",
       "49996                       1                False          0.0  \n",
       "49997                       0                 True        100.0  \n",
       "49998                       2                False        100.0  \n",
       "49999                       0                False          0.0  "
      ]
     },
     "execution_count": 71,
     "metadata": {},
     "output_type": "execute_result"
    }
   ],
   "source": [
    "print('type', type(ultimate))\n",
    "print('shape', ultimate.shape)\n",
    "print('')\n",
    "print('info',ultimate.info())\n",
    "print('')\n",
    "print('columns:',ultimate.columns)\n",
    "\n",
    "ultimate.tail()"
   ]
  },
  {
   "cell_type": "markdown",
   "metadata": {},
   "source": [
    "Nulls exist in **avg_rating_by_driver**, **avg_rating_of_driver** and **phone**.  It's possible that no ratings exist for some drivers **by** or **of**.  It's surprising that some records were entered without valid phone type.  In prediction, this might be useful information, and an integer is easier to work with.  Let's fill these NaNs with -1.  For the missing **ratings**, I can't assume a good or bad rating.  I will fill with average rating.  "
   ]
  },
  {
   "cell_type": "code",
   "execution_count": 72,
   "metadata": {},
   "outputs": [
    {
     "data": {
      "text/plain": [
       "iPhone     34582\n",
       "Android    15022\n",
       "Name: phone, dtype: int64"
      ]
     },
     "execution_count": 72,
     "metadata": {},
     "output_type": "execute_result"
    }
   ],
   "source": [
    "ultimate.phone.value_counts()"
   ]
  },
  {
   "cell_type": "code",
   "execution_count": 73,
   "metadata": {},
   "outputs": [],
   "source": [
    "ultimate['phone'] = ultimate['phone'].fillna(-1)"
   ]
  },
  {
   "cell_type": "code",
   "execution_count": 74,
   "metadata": {},
   "outputs": [
    {
     "data": {
      "text/plain": [
       "iPhone     34582\n",
       "Android    15022\n",
       "-1           396\n",
       "Name: phone, dtype: int64"
      ]
     },
     "execution_count": 74,
     "metadata": {},
     "output_type": "execute_result"
    }
   ],
   "source": [
    "ultimate.phone.value_counts()"
   ]
  },
  {
   "cell_type": "code",
   "execution_count": 75,
   "metadata": {},
   "outputs": [
    {
     "name": "stdout",
     "output_type": "stream",
     "text": [
      "total ratings by driver: 49799\n"
     ]
    },
    {
     "data": {
      "text/plain": [
       "5.0    28508\n",
       "4.8     4537\n",
       "4.7     3330\n",
       "4.9     3094\n",
       "4.5     2424\n",
       "4.6     2078\n",
       "4.0     1914\n",
       "4.3     1018\n",
       "4.4      860\n",
       "3.0      602\n",
       "4.2      342\n",
       "3.5      199\n",
       "3.7      195\n",
       "1.0      181\n",
       "2.0      126\n",
       "4.1      125\n",
       "3.8      111\n",
       "3.3       47\n",
       "3.9       41\n",
       "2.5       31\n",
       "3.6       19\n",
       "3.4        5\n",
       "1.5        4\n",
       "2.8        3\n",
       "3.2        2\n",
       "2.7        2\n",
       "2.3        1\n",
       "Name: avg_rating_by_driver, dtype: int64"
      ]
     },
     "execution_count": 75,
     "metadata": {},
     "output_type": "execute_result"
    }
   ],
   "source": [
    "print('total ratings by driver:',ultimate['avg_rating_by_driver'].value_counts().sum())\n",
    "ultimate['avg_rating_by_driver'].value_counts()"
   ]
  },
  {
   "cell_type": "code",
   "execution_count": 76,
   "metadata": {},
   "outputs": [],
   "source": [
    "ultimate['avg_rating_by_driver'].fillna(ultimate['avg_rating_by_driver'].mean(), inplace=True)\n",
    "ultimate['avg_rating_of_driver'].fillna(ultimate['avg_rating_of_driver'].mean(), inplace=True)"
   ]
  },
  {
   "cell_type": "code",
   "execution_count": 77,
   "metadata": {},
   "outputs": [
    {
     "name": "stdout",
     "output_type": "stream",
     "text": [
      "<class 'pandas.core.frame.DataFrame'>\n",
      "RangeIndex: 50000 entries, 0 to 49999\n",
      "Data columns (total 12 columns):\n",
      "avg_dist                  50000 non-null float64\n",
      "avg_rating_by_driver      50000 non-null float64\n",
      "avg_rating_of_driver      50000 non-null float64\n",
      "avg_surge                 50000 non-null float64\n",
      "city                      50000 non-null object\n",
      "last_trip_date            50000 non-null object\n",
      "phone                     50000 non-null object\n",
      "signup_date               50000 non-null object\n",
      "surge_pct                 50000 non-null float64\n",
      "trips_in_first_30_days    50000 non-null int64\n",
      "ultimate_black_user       50000 non-null bool\n",
      "weekday_pct               50000 non-null float64\n",
      "dtypes: bool(1), float64(6), int64(1), object(4)\n",
      "memory usage: 4.2+ MB\n"
     ]
    }
   ],
   "source": [
    "ultimate.info()"
   ]
  },
  {
   "cell_type": "code",
   "execution_count": 78,
   "metadata": {},
   "outputs": [
    {
     "data": {
      "image/png": "[encoded data removed]",
      "text/plain": [
       "<matplotlib.figure.Figure at 0x11006cf60>"
      ]
     },
     "metadata": {},
     "output_type": "display_data"
    },
    {
     "name": "stdout",
     "output_type": "stream",
     "text": [
      "mean average: 5.7968\n",
      "median average: 3.8800\n",
      "max average: 160.96\n",
      "min average: 0.0\n"
     ]
    }
   ],
   "source": [
    "# average distribution.  \n",
    "import matplotlib.pyplot as plt\n",
    "import seaborn as sns\n",
    "\n",
    "bins= np.arange(1,5.1,0.1)   # bins from 1 to 5, increments of 0.1\n",
    "_= plt.figure(figsize=(20,5))\n",
    "_= plt.hist(ultimate['avg_dist'], bins=bins, edgecolor=\"k\") #\n",
    "_= plt.xticks(bins, rotation='vertical',size=17)\n",
    "_= plt.yticks(size=17)\n",
    "_= plt.title('AVG DIST', size=20)\n",
    "_= plt.xlabel('avg_dist', size=20)\n",
    "_= plt.ylabel('count', size=20)\n",
    "plt.show()\n",
    "\n",
    "print('mean average: {:.4f}'.format(ultimate['avg_dist'].mean()))\n",
    "print('median average: {:.4f}'.format(ultimate['avg_dist'].median()))\n",
    "print('max average:', ultimate['avg_dist'].max())\n",
    "print('min average:', ultimate['avg_dist'].min())"
   ]
  },
  {
   "cell_type": "code",
   "execution_count": 79,
   "metadata": {},
   "outputs": [
    {
     "data": {
      "text/html": [
       "<div>\n",
       "<style scoped>\n",
       "    .dataframe tbody tr th:only-of-type {\n",
       "        vertical-align: middle;\n",
       "    }\n",
       "\n",
       "    .dataframe tbody tr th {\n",
       "        vertical-align: top;\n",
       "    }\n",
       "\n",
       "    .dataframe thead th {\n",
       "        text-align: right;\n",
       "    }\n",
       "</style>\n",
       "<table border=\"1\" class=\"dataframe\">\n",
       "  <thead>\n",
       "    <tr style=\"text-align: right;\">\n",
       "      <th></th>\n",
       "      <th>avg_dist</th>\n",
       "      <th>avg_rating_by_driver</th>\n",
       "      <th>avg_rating_of_driver</th>\n",
       "      <th>avg_surge</th>\n",
       "      <th>city</th>\n",
       "      <th>last_trip_date</th>\n",
       "      <th>phone</th>\n",
       "      <th>signup_date</th>\n",
       "      <th>surge_pct</th>\n",
       "      <th>trips_in_first_30_days</th>\n",
       "      <th>ultimate_black_user</th>\n",
       "      <th>weekday_pct</th>\n",
       "    </tr>\n",
       "  </thead>\n",
       "  <tbody>\n",
       "    <tr>\n",
       "      <th>20701</th>\n",
       "      <td>160.96</td>\n",
       "      <td>4.778158</td>\n",
       "      <td>4.601559</td>\n",
       "      <td>1.0</td>\n",
       "      <td>Astapor</td>\n",
       "      <td>2014-06-26</td>\n",
       "      <td>Android</td>\n",
       "      <td>2014-01-25</td>\n",
       "      <td>0.0</td>\n",
       "      <td>0</td>\n",
       "      <td>False</td>\n",
       "      <td>100.0</td>\n",
       "    </tr>\n",
       "    <tr>\n",
       "      <th>534</th>\n",
       "      <td>129.89</td>\n",
       "      <td>5.000000</td>\n",
       "      <td>4.601559</td>\n",
       "      <td>1.0</td>\n",
       "      <td>King's Landing</td>\n",
       "      <td>2014-03-09</td>\n",
       "      <td>-1</td>\n",
       "      <td>2014-01-04</td>\n",
       "      <td>0.0</td>\n",
       "      <td>0</td>\n",
       "      <td>False</td>\n",
       "      <td>0.0</td>\n",
       "    </tr>\n",
       "    <tr>\n",
       "      <th>1302</th>\n",
       "      <td>79.69</td>\n",
       "      <td>5.000000</td>\n",
       "      <td>5.000000</td>\n",
       "      <td>1.0</td>\n",
       "      <td>Winterfell</td>\n",
       "      <td>2014-01-30</td>\n",
       "      <td>iPhone</td>\n",
       "      <td>2014-01-30</td>\n",
       "      <td>0.0</td>\n",
       "      <td>1</td>\n",
       "      <td>False</td>\n",
       "      <td>100.0</td>\n",
       "    </tr>\n",
       "    <tr>\n",
       "      <th>22290</th>\n",
       "      <td>79.34</td>\n",
       "      <td>5.000000</td>\n",
       "      <td>5.000000</td>\n",
       "      <td>1.0</td>\n",
       "      <td>Astapor</td>\n",
       "      <td>2014-06-26</td>\n",
       "      <td>iPhone</td>\n",
       "      <td>2014-01-12</td>\n",
       "      <td>0.0</td>\n",
       "      <td>0</td>\n",
       "      <td>True</td>\n",
       "      <td>100.0</td>\n",
       "    </tr>\n",
       "    <tr>\n",
       "      <th>47595</th>\n",
       "      <td>77.13</td>\n",
       "      <td>5.000000</td>\n",
       "      <td>5.000000</td>\n",
       "      <td>1.0</td>\n",
       "      <td>King's Landing</td>\n",
       "      <td>2014-06-09</td>\n",
       "      <td>iPhone</td>\n",
       "      <td>2014-01-25</td>\n",
       "      <td>0.0</td>\n",
       "      <td>0</td>\n",
       "      <td>True</td>\n",
       "      <td>0.0</td>\n",
       "    </tr>\n",
       "    <tr>\n",
       "      <th>36625</th>\n",
       "      <td>73.88</td>\n",
       "      <td>3.000000</td>\n",
       "      <td>5.000000</td>\n",
       "      <td>1.0</td>\n",
       "      <td>Astapor</td>\n",
       "      <td>2014-01-22</td>\n",
       "      <td>iPhone</td>\n",
       "      <td>2014-01-19</td>\n",
       "      <td>0.0</td>\n",
       "      <td>2</td>\n",
       "      <td>False</td>\n",
       "      <td>100.0</td>\n",
       "    </tr>\n",
       "    <tr>\n",
       "      <th>22096</th>\n",
       "      <td>72.20</td>\n",
       "      <td>5.000000</td>\n",
       "      <td>4.601559</td>\n",
       "      <td>1.0</td>\n",
       "      <td>Astapor</td>\n",
       "      <td>2014-05-01</td>\n",
       "      <td>iPhone</td>\n",
       "      <td>2014-01-17</td>\n",
       "      <td>0.0</td>\n",
       "      <td>0</td>\n",
       "      <td>True</td>\n",
       "      <td>100.0</td>\n",
       "    </tr>\n",
       "    <tr>\n",
       "      <th>1493</th>\n",
       "      <td>72.08</td>\n",
       "      <td>5.000000</td>\n",
       "      <td>5.000000</td>\n",
       "      <td>1.0</td>\n",
       "      <td>Astapor</td>\n",
       "      <td>2014-01-27</td>\n",
       "      <td>iPhone</td>\n",
       "      <td>2014-01-26</td>\n",
       "      <td>0.0</td>\n",
       "      <td>1</td>\n",
       "      <td>False</td>\n",
       "      <td>100.0</td>\n",
       "    </tr>\n",
       "    <tr>\n",
       "      <th>19197</th>\n",
       "      <td>71.38</td>\n",
       "      <td>5.000000</td>\n",
       "      <td>4.700000</td>\n",
       "      <td>1.0</td>\n",
       "      <td>Astapor</td>\n",
       "      <td>2014-05-14</td>\n",
       "      <td>iPhone</td>\n",
       "      <td>2014-01-17</td>\n",
       "      <td>0.0</td>\n",
       "      <td>2</td>\n",
       "      <td>True</td>\n",
       "      <td>100.0</td>\n",
       "    </tr>\n",
       "    <tr>\n",
       "      <th>42835</th>\n",
       "      <td>70.48</td>\n",
       "      <td>5.000000</td>\n",
       "      <td>5.000000</td>\n",
       "      <td>1.0</td>\n",
       "      <td>Winterfell</td>\n",
       "      <td>2014-06-28</td>\n",
       "      <td>Android</td>\n",
       "      <td>2014-01-10</td>\n",
       "      <td>0.0</td>\n",
       "      <td>0</td>\n",
       "      <td>False</td>\n",
       "      <td>100.0</td>\n",
       "    </tr>\n",
       "  </tbody>\n",
       "</table>\n",
       "</div>"
      ],
      "text/plain": [
       "       avg_dist  avg_rating_by_driver  avg_rating_of_driver  avg_surge  \\\n",
       "20701    160.96              4.778158              4.601559        1.0   \n",
       "534      129.89              5.000000              4.601559        1.0   \n",
       "1302      79.69              5.000000              5.000000        1.0   \n",
       "22290     79.34              5.000000              5.000000        1.0   \n",
       "47595     77.13              5.000000              5.000000        1.0   \n",
       "36625     73.88              3.000000              5.000000        1.0   \n",
       "22096     72.20              5.000000              4.601559        1.0   \n",
       "1493      72.08              5.000000              5.000000        1.0   \n",
       "19197     71.38              5.000000              4.700000        1.0   \n",
       "42835     70.48              5.000000              5.000000        1.0   \n",
       "\n",
       "                 city last_trip_date    phone signup_date  surge_pct  \\\n",
       "20701         Astapor     2014-06-26  Android  2014-01-25        0.0   \n",
       "534    King's Landing     2014-03-09       -1  2014-01-04        0.0   \n",
       "1302       Winterfell     2014-01-30   iPhone  2014-01-30        0.0   \n",
       "22290         Astapor     2014-06-26   iPhone  2014-01-12        0.0   \n",
       "47595  King's Landing     2014-06-09   iPhone  2014-01-25        0.0   \n",
       "36625         Astapor     2014-01-22   iPhone  2014-01-19        0.0   \n",
       "22096         Astapor     2014-05-01   iPhone  2014-01-17        0.0   \n",
       "1493          Astapor     2014-01-27   iPhone  2014-01-26        0.0   \n",
       "19197         Astapor     2014-05-14   iPhone  2014-01-17        0.0   \n",
       "42835      Winterfell     2014-06-28  Android  2014-01-10        0.0   \n",
       "\n",
       "       trips_in_first_30_days  ultimate_black_user  weekday_pct  \n",
       "20701                       0                False        100.0  \n",
       "534                         0                False          0.0  \n",
       "1302                        1                False        100.0  \n",
       "22290                       0                 True        100.0  \n",
       "47595                       0                 True          0.0  \n",
       "36625                       2                False        100.0  \n",
       "22096                       0                 True        100.0  \n",
       "1493                        1                False        100.0  \n",
       "19197                       2                 True        100.0  \n",
       "42835                       0                False        100.0  "
      ]
     },
     "execution_count": 79,
     "metadata": {},
     "output_type": "execute_result"
    }
   ],
   "source": [
    "# a few  mean aveerages are very large!  Let's examine: \n",
    "# breweries = df.brewery.value_counts()\n",
    "ultimate.sort_values(by='avg_dist', ascending=False).head(10)"
   ]
  },
  {
   "cell_type": "code",
   "execution_count": 80,
   "metadata": {},
   "outputs": [
    {
     "name": "stdout",
     "output_type": "stream",
     "text": [
      "      index  avg_dist\n",
      "0      0.00       150\n",
      "1      2.30       116\n",
      "2      2.29       116\n",
      "3      2.70       114\n",
      "4      2.36       114\n",
      "5      2.73       114\n",
      "6      2.65       113\n",
      "7      2.50       113\n",
      "8      2.83       110\n",
      "9      2.54       110\n",
      "10     2.40       110\n",
      "11     2.15       109\n",
      "12     2.05       109\n",
      "13     2.42       109\n",
      "14     2.32       108\n",
      "15     2.62       108\n",
      "16     2.47       107\n",
      "17     2.01       107\n",
      "18     2.89       107\n",
      "19     2.74       107\n",
      "20     3.05       106\n",
      "21     2.60       106\n",
      "22     2.06       106\n",
      "23     3.00       106\n",
      "24     2.59       106\n",
      "25     2.77       105\n",
      "26     2.22       104\n",
      "27     2.92       104\n",
      "28     2.38       103\n",
      "29     2.46       103\n",
      "...     ...       ...\n",
      "2878  24.05         1\n",
      "2879  30.27         1\n",
      "2880  33.55         1\n",
      "2881  25.81         1\n",
      "2882  31.22         1\n",
      "2883  23.55         1\n",
      "2884  36.63         1\n",
      "2885  45.56         1\n",
      "2886  21.75         1\n",
      "2887  31.78         1\n",
      "2888  30.22         1\n",
      "2889  20.20         1\n",
      "2890  33.77         1\n",
      "2891  29.35         1\n",
      "2892  29.53         1\n",
      "2893  19.82         1\n",
      "2894  18.54         1\n",
      "2895  19.62         1\n",
      "2896  25.65         1\n",
      "2897  49.45         1\n",
      "2898  23.91         1\n",
      "2899   0.17         1\n",
      "2900  42.66         1\n",
      "2901  25.92         1\n",
      "2902  21.79         1\n",
      "2903  55.60         1\n",
      "2904  21.19         1\n",
      "2905  22.45         1\n",
      "2906  26.94         1\n",
      "2907  46.02         1\n",
      "\n",
      "[2908 rows x 2 columns]\n"
     ]
    }
   ],
   "source": [
    "values = ultimate.avg_dist.value_counts().reset_index()\n",
    "print(values)"
   ]
  },
  {
   "cell_type": "markdown",
   "metadata": {},
   "source": [
    "I'm unsure what to make of these high ratings.  It's possible they are not in error.  I'll leave them as they are."
   ]
  },
  {
   "cell_type": "code",
   "execution_count": 81,
   "metadata": {},
   "outputs": [
    {
     "data": {
      "image/png": "[encoded data removed]",
      "text/plain": [
       "<matplotlib.figure.Figure at 0x10f1b3710>"
      ]
     },
     "metadata": {},
     "output_type": "display_data"
    },
    {
     "name": "stdout",
     "output_type": "stream",
     "text": [
      "mean average rating: 4.7782\n",
      "max average rating: 5.0\n",
      "min average rating: 1.0\n"
     ]
    }
   ],
   "source": [
    "# average rating by driver.  \n",
    "import matplotlib.pyplot as plt\n",
    "\n",
    "bins= np.arange(1,5.1,0.1)   # bins from 1 to 5, increments of 0.1\n",
    "_= plt.figure(figsize=(20,5))\n",
    "_= plt.hist(ultimate['avg_rating_by_driver'], bins=bins, edgecolor=\"k\") #\n",
    "_= plt.xticks(bins, rotation='vertical',size=17)\n",
    "_= plt.yticks(size=17)\n",
    "_= plt.title('AVG RATING BY DRIVER', size=20)\n",
    "_= plt.xlabel('avg_rating_by_driver', size=20)\n",
    "_= plt.ylabel('count', size=20)\n",
    "plt.show()\n",
    "\n",
    "print('mean average rating: {:.4f}'.format(ultimate['avg_rating_by_driver'].mean()))\n",
    "print('max average rating:', ultimate['avg_rating_by_driver'].max())\n",
    "print('min average rating:', ultimate['avg_rating_by_driver'].min())"
   ]
  },
  {
   "cell_type": "code",
   "execution_count": 82,
   "metadata": {},
   "outputs": [
    {
     "data": {
      "image/png": "[encoded data removed]",
      "text/plain": [
       "<matplotlib.figure.Figure at 0x10f5dc080>"
      ]
     },
     "metadata": {},
     "output_type": "display_data"
    },
    {
     "name": "stdout",
     "output_type": "stream",
     "text": [
      "mean average rating: 4.6016\n",
      "max average rating: 5.0\n",
      "min average rating: 1.0\n"
     ]
    }
   ],
   "source": [
    "# average rating of driver.  \n",
    "import matplotlib.pyplot as plt\n",
    "\n",
    "bins= np.arange(1,5.1,0.1)   # bins from 1 to 5, increments of 0.1\n",
    "_= plt.figure(figsize=(20,5))\n",
    "_= plt.hist(ultimate['avg_rating_of_driver'], bins=bins, edgecolor=\"k\") #\n",
    "_= plt.xticks(bins, rotation='vertical',size=17)\n",
    "_= plt.yticks(size=17)\n",
    "_= plt.title('AVG RATING OF DRIVER', size=20)\n",
    "_= plt.xlabel('avg_rating_of_driver', size=20)\n",
    "_= plt.ylabel('count', size=20)\n",
    "plt.show()\n",
    "\n",
    "print('mean average rating: {:.4f}'.format(ultimate['avg_rating_of_driver'].mean()))\n",
    "print('max average rating:', ultimate['avg_rating_of_driver'].max())\n",
    "print('min average rating:', ultimate['avg_rating_of_driver'].min())"
   ]
  },
  {
   "cell_type": "code",
   "execution_count": 83,
   "metadata": {},
   "outputs": [
    {
     "data": {
      "image/png": "[encoded data removed]",
      "text/plain": [
       "<matplotlib.figure.Figure at 0x10ec49828>"
      ]
     },
     "metadata": {},
     "output_type": "display_data"
    },
    {
     "name": "stdout",
     "output_type": "stream",
     "text": [
      "mean average surge: 1.0748\n",
      "max average surge: 8.0\n",
      "min average surge: 1.0\n"
     ]
    }
   ],
   "source": [
    "# average avg_surge.  \n",
    "import matplotlib.pyplot as plt\n",
    "\n",
    "_= plt.figure(figsize=(20,5))\n",
    "_= plt.hist(ultimate['avg_surge'], bins=bins, edgecolor=\"k\") #\n",
    "_= plt.xticks(rotation='vertical',size=17)\n",
    "_= plt.yticks(size=17)\n",
    "_= plt.title('AVG SURGE', size=20)\n",
    "_= plt.xlabel('avg_surge', size=20)\n",
    "_= plt.ylabel('count', size=20)\n",
    "plt.show()\n",
    "\n",
    "print('mean average surge: {:.4f}'.format(ultimate['avg_surge'].mean()))\n",
    "print('max average surge:', ultimate['avg_surge'].max())\n",
    "print('min average surge:', ultimate['avg_surge'].min())"
   ]
  },
  {
   "cell_type": "code",
   "execution_count": 84,
   "metadata": {},
   "outputs": [
    {
     "name": "stdout",
     "output_type": "stream",
     "text": [
      "Winterfell        23336\n",
      "Astapor           16534\n",
      "King's Landing    10130\n",
      "Name: city, dtype: int64\n"
     ]
    }
   ],
   "source": [
    "print(ultimate.city.value_counts())"
   ]
  },
  {
   "cell_type": "code",
   "execution_count": 87,
   "metadata": {},
   "outputs": [
    {
     "data": {
      "image/png": "[encoded data removed]",
      "text/plain": [
       "<matplotlib.figure.Figure at 0x10f0f9668>"
      ]
     },
     "metadata": {},
     "output_type": "display_data"
    },
    {
     "name": "stdout",
     "output_type": "stream",
     "text": [
      "mean average rating: 4.6016\n",
      "max average rating: 5.0\n",
      "min average rating: 1.0\n"
     ]
    }
   ],
   "source": [
    "# average last_trip_date.  \n",
    "import matplotlib.pyplot as plt\n",
    "\n",
    "_= plt.figure(figsize=(20,5))\n",
    "_= plt.hist(ultimate['last_trip_date'], edgecolor=\"k\") #\n",
    "_= plt.xticks(bins, rotation='vertical',size=17)\n",
    "_= plt.yticks(size=17)\n",
    "_= plt.title('LAST TRIP DATE', size=20)\n",
    "_= plt.xlabel('last_trip_date', size=20)\n",
    "_= plt.ylabel('count', size=20)\n",
    "plt.show()\n",
    "\n",
    "print('mean average rating: {:.4f}'.format(ultimate['avg_rating_of_driver'].mean()))\n",
    "print('max average rating:', ultimate['avg_rating_of_driver'].max())\n",
    "print('min average rating:', ultimate['avg_rating_of_driver'].min())"
   ]
  },
  {
   "cell_type": "code",
   "execution_count": 91,
   "metadata": {},
   "outputs": [
    {
     "ename": "TypeError",
     "evalue": "Cannot compare type 'Timestamp' with type 'str'",
     "output_type": "error",
     "traceback": [
      "\u001b[0;31m---------------------------------------------------------------------------\u001b[0m",
      "\u001b[0;31mTypeError\u001b[0m                                 Traceback (most recent call last)",
      "\u001b[0;32m<ipython-input-91-2dc58eba1401>\u001b[0m in \u001b[0;36m<module>\u001b[0;34m()\u001b[0m\n\u001b[1;32m      1\u001b[0m \u001b[0;31m# RETAINED: use as the target\u001b[0m\u001b[0;34m\u001b[0m\u001b[0;34m\u001b[0m\u001b[0m\n\u001b[1;32m      2\u001b[0m \u001b[0;31m# use function to sift through the datetime data quickly# use fun\u001b[0m\u001b[0;34m\u001b[0m\u001b[0;34m\u001b[0m\u001b[0m\n\u001b[0;32m----> 3\u001b[0;31m \u001b[0multimate\u001b[0m\u001b[0;34m[\u001b[0m\u001b[0;34m'retained'\u001b[0m\u001b[0;34m]\u001b[0m \u001b[0;34m=\u001b[0m \u001b[0multimate\u001b[0m\u001b[0;34m[\u001b[0m\u001b[0;34m'last_trip_date'\u001b[0m\u001b[0;34m]\u001b[0m\u001b[0;34m.\u001b[0m\u001b[0mapply\u001b[0m\u001b[0;34m(\u001b[0m\u001b[0;32mlambda\u001b[0m \u001b[0mx\u001b[0m\u001b[0;34m:\u001b[0m \u001b[0;36m1\u001b[0m \u001b[0;32mif\u001b[0m \u001b[0mx\u001b[0m \u001b[0;34m>=\u001b[0m \u001b[0mpd\u001b[0m\u001b[0;34m.\u001b[0m\u001b[0mTimestamp\u001b[0m\u001b[0;34m(\u001b[0m\u001b[0;34m'2014-06-01'\u001b[0m\u001b[0;34m,\u001b[0m \u001b[0mtz\u001b[0m\u001b[0;34m=\u001b[0m\u001b[0;32mNone\u001b[0m\u001b[0;34m)\u001b[0m \u001b[0;32melse\u001b[0m \u001b[0;36m0\u001b[0m\u001b[0;34m)\u001b[0m\u001b[0;34m\u001b[0m\u001b[0m\n\u001b[0m\u001b[1;32m      4\u001b[0m \u001b[0;34m\u001b[0m\u001b[0m\n\u001b[1;32m      5\u001b[0m \u001b[0;31m# Getting the specific retention numbers, 0 not retained, 1 retained# Getting\u001b[0m\u001b[0;34m\u001b[0m\u001b[0;34m\u001b[0m\u001b[0m\n",
      "\u001b[0;32m~/anaconda3/lib/python3.6/site-packages/pandas/core/series.py\u001b[0m in \u001b[0;36mapply\u001b[0;34m(self, func, convert_dtype, args, **kwds)\u001b[0m\n\u001b[1;32m   2549\u001b[0m             \u001b[0;32melse\u001b[0m\u001b[0;34m:\u001b[0m\u001b[0;34m\u001b[0m\u001b[0m\n\u001b[1;32m   2550\u001b[0m                 \u001b[0mvalues\u001b[0m \u001b[0;34m=\u001b[0m \u001b[0mself\u001b[0m\u001b[0;34m.\u001b[0m\u001b[0masobject\u001b[0m\u001b[0;34m\u001b[0m\u001b[0m\n\u001b[0;32m-> 2551\u001b[0;31m                 \u001b[0mmapped\u001b[0m \u001b[0;34m=\u001b[0m \u001b[0mlib\u001b[0m\u001b[0;34m.\u001b[0m\u001b[0mmap_infer\u001b[0m\u001b[0;34m(\u001b[0m\u001b[0mvalues\u001b[0m\u001b[0;34m,\u001b[0m \u001b[0mf\u001b[0m\u001b[0;34m,\u001b[0m \u001b[0mconvert\u001b[0m\u001b[0;34m=\u001b[0m\u001b[0mconvert_dtype\u001b[0m\u001b[0;34m)\u001b[0m\u001b[0;34m\u001b[0m\u001b[0m\n\u001b[0m\u001b[1;32m   2552\u001b[0m \u001b[0;34m\u001b[0m\u001b[0m\n\u001b[1;32m   2553\u001b[0m         \u001b[0;32mif\u001b[0m \u001b[0mlen\u001b[0m\u001b[0;34m(\u001b[0m\u001b[0mmapped\u001b[0m\u001b[0;34m)\u001b[0m \u001b[0;32mand\u001b[0m \u001b[0misinstance\u001b[0m\u001b[0;34m(\u001b[0m\u001b[0mmapped\u001b[0m\u001b[0;34m[\u001b[0m\u001b[0;36m0\u001b[0m\u001b[0;34m]\u001b[0m\u001b[0;34m,\u001b[0m \u001b[0mSeries\u001b[0m\u001b[0;34m)\u001b[0m\u001b[0;34m:\u001b[0m\u001b[0;34m\u001b[0m\u001b[0m\n",
      "\u001b[0;32mpandas/_libs/src/inference.pyx\u001b[0m in \u001b[0;36mpandas._libs.lib.map_infer\u001b[0;34m()\u001b[0m\n",
      "\u001b[0;32m<ipython-input-91-2dc58eba1401>\u001b[0m in \u001b[0;36m<lambda>\u001b[0;34m(x)\u001b[0m\n\u001b[1;32m      1\u001b[0m \u001b[0;31m# RETAINED: use as the target\u001b[0m\u001b[0;34m\u001b[0m\u001b[0;34m\u001b[0m\u001b[0m\n\u001b[1;32m      2\u001b[0m \u001b[0;31m# use function to sift through the datetime data quickly# use fun\u001b[0m\u001b[0;34m\u001b[0m\u001b[0;34m\u001b[0m\u001b[0m\n\u001b[0;32m----> 3\u001b[0;31m \u001b[0multimate\u001b[0m\u001b[0;34m[\u001b[0m\u001b[0;34m'retained'\u001b[0m\u001b[0;34m]\u001b[0m \u001b[0;34m=\u001b[0m \u001b[0multimate\u001b[0m\u001b[0;34m[\u001b[0m\u001b[0;34m'last_trip_date'\u001b[0m\u001b[0;34m]\u001b[0m\u001b[0;34m.\u001b[0m\u001b[0mapply\u001b[0m\u001b[0;34m(\u001b[0m\u001b[0;32mlambda\u001b[0m \u001b[0mx\u001b[0m\u001b[0;34m:\u001b[0m \u001b[0;36m1\u001b[0m \u001b[0;32mif\u001b[0m \u001b[0mx\u001b[0m \u001b[0;34m>=\u001b[0m \u001b[0mpd\u001b[0m\u001b[0;34m.\u001b[0m\u001b[0mTimestamp\u001b[0m\u001b[0;34m(\u001b[0m\u001b[0;34m'2014-06-01'\u001b[0m\u001b[0;34m,\u001b[0m \u001b[0mtz\u001b[0m\u001b[0;34m=\u001b[0m\u001b[0;32mNone\u001b[0m\u001b[0;34m)\u001b[0m \u001b[0;32melse\u001b[0m \u001b[0;36m0\u001b[0m\u001b[0;34m)\u001b[0m\u001b[0;34m\u001b[0m\u001b[0m\n\u001b[0m\u001b[1;32m      4\u001b[0m \u001b[0;34m\u001b[0m\u001b[0m\n\u001b[1;32m      5\u001b[0m \u001b[0;31m# Getting the specific retention numbers, 0 not retained, 1 retained# Getting\u001b[0m\u001b[0;34m\u001b[0m\u001b[0;34m\u001b[0m\u001b[0m\n",
      "\u001b[0;32mpandas/_libs/tslib.pyx\u001b[0m in \u001b[0;36mpandas._libs.tslib._Timestamp.__richcmp__\u001b[0;34m()\u001b[0m\n",
      "\u001b[0;31mTypeError\u001b[0m: Cannot compare type 'Timestamp' with type 'str'"
     ]
    }
   ],
   "source": [
    "# RETAINED: use as the target\n",
    "# use function to sift through the datetime data quickly# use fun \n",
    "ultimate['retained'] = ultimate['last_trip_date'].apply(lambda x: 1 if x >= pd.Timestamp('2014-06-01', tz=None) else 0)\n",
    "\n",
    "# Getting the specific retention numbers, 0 not retained, 1 retained# Getting \n",
    "retained = ultimate['retained'].value_counts()\n",
    "retained_percent = retained[1]/len(df)\n",
    "print(retained, '\\n', '\\n','Retention Rate:', retained_percent)"
   ]
  },
  {
   "cell_type": "code",
   "execution_count": null,
   "metadata": {},
   "outputs": [],
   "source": [
    "\n",
    "active_ind = (pd.to_datetime(pred_data[\"last_trip_date\"]) < pd.to_datetime(max(pred_data[\"last_trip_date\"])) - pd.Timedelta(\"30 days\")) + 0\n",
    "active_ind.value_counts()"
   ]
  },
  {
   "cell_type": "code",
   "execution_count": null,
   "metadata": {},
   "outputs": [],
   "source": []
  },
  {
   "cell_type": "code",
   "execution_count": null,
   "metadata": {},
   "outputs": [],
   "source": []
  },
  {
   "cell_type": "code",
   "execution_count": null,
   "metadata": {},
   "outputs": [],
   "source": []
  },
  {
   "cell_type": "code",
   "execution_count": null,
   "metadata": {},
   "outputs": [],
   "source": []
  },
  {
   "cell_type": "code",
   "execution_count": null,
   "metadata": {},
   "outputs": [],
   "source": []
  },
  {
   "cell_type": "code",
   "execution_count": null,
   "metadata": {},
   "outputs": [],
   "source": [
    "# average avg_surge.  \n",
    "import matplotlib.pyplot as plt\n",
    "\n",
    "_= plt.figure(figsize=(20,5))\n",
    "_= plt.hist(ultimate['avg_surge'], bins=bins, edgecolor=\"k\") #\n",
    "_= plt.xticks(rotation='vertical',size=17)\n",
    "_= plt.yticks(size=17)\n",
    "_= plt.title('AVG SURGE', size=20)\n",
    "_= plt.xlabel('avg_surge', size=20)\n",
    "_= plt.ylabel('count', size=20)\n",
    "\n",
    "plt.show()"
   ]
  },
  {
   "cell_type": "code",
   "execution_count": null,
   "metadata": {},
   "outputs": [],
   "source": []
  },
  {
   "cell_type": "code",
   "execution_count": null,
   "metadata": {},
   "outputs": [],
   "source": [
    "#from stack overflow:\n",
    "agg_10m = df.groupby(pd.Grouper(freq='10Min')).aggregate(numpy.sum)\n",
    "\n",
    "---\n",
    "\n",
    "You can use DataFrame.resample:\n",
    "\n",
    "df2 = df.resample(rule='15Min', on='datetime').mean()\n",
    "Then you filter out the times you don't want using boolean indexing. It's better to work with a DateTimeIndex:\n",
    "\n",
    "df2 = df2.set_index('datetime', drop=False)\n",
    "df2.between_time('9:00','16:30')\n",
    "\n",
    "---\n",
    "\n",
    "df.index = pd.DatetimeIndex(df[1])\n",
    "df.loc[df[2]=='reward', 'rwg'] = range(1, sum(df[2]=='reward')+1 )\n",
    "dfrwg = df.groupby('rwg').sum()\n",
    "dfrs = df.resample('3min', how=sum)\n",
    "print(dfrwg)\n",
    "\n",
    "---\n",
    "\n",
    "df.index = pd.to_datetime(df.data, format='%d/%b/%Y:%H:%M:%S')\n",
    "df.groupby(pd.TimeGrouper('5Min')).apply(lambda x: x.groupby(['id', 'subdomain']).first())\n",
    "df1.resample(\"5Min\").sum()\n",
    "\n",
    "---\n",
    "\n",
    "df.groupby(pd.TimeGrouper(freq='60Min', base=30, label='right')).first()\n",
    "# same thing using resample - df.resample('60Min', base=30, label='right').first()"
   ]
  }
 ],
 "metadata": {
  "kernelspec": {
   "display_name": "Python 3",
   "language": "python",
   "name": "python3"
  },
  "language_info": {
   "codemirror_mode": {
    "name": "ipython",
    "version": 3
   },
   "file_extension": ".py",
   "mimetype": "text/x-python",
   "name": "python",
   "nbconvert_exporter": "python",
   "pygments_lexer": "ipython3",
   "version": "3.6.4"
  }
 },
 "nbformat": 4,
 "nbformat_minor": 2
}
