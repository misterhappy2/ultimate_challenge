{
 "cells": [
  {
   "cell_type": "markdown",
   "metadata": {},
   "source": [
    "## Interview Challenge 1"
   ]
  },
  {
   "cell_type": "markdown",
   "metadata": {},
   "source": [
    "### Part 1 ‑ Exploratory data analysis  \n",
    "<div class=\"span5 alert alert-info\">  The attached logins.json file contains (simulated) timestamps of user logins in a particular\n",
    "geographic location. Aggregate these login counts based on 15­minute time intervals, and\n",
    "visualize and describe the resulting time series of login counts in ways that best characterize the\n",
    "underlying patterns of the demand. Please report/illustrate important features of the demand,\n",
    "such as daily cycles. If there are data quality issues, please report them.\n",
    "</div>  "
   ]
  },
  {
   "cell_type": "code",
   "execution_count": 31,
   "metadata": {},
   "outputs": [],
   "source": [
    "# import packages \n",
    "import numpy as np\n",
    "import pandas as pd\n",
    "import json\n",
    "from pandas.io.json import json_normalize\n",
    "import matplotlib.pyplot as plt\n",
    "import seaborn as sns\n",
    "%matplotlib inline"
   ]
  },
  {
   "cell_type": "code",
   "execution_count": 32,
   "metadata": {},
   "outputs": [
    {
     "name": "stdout",
     "output_type": "stream",
     "text": [
      "<class 'pandas.core.frame.DataFrame'>\n",
      "93142\n"
     ]
    }
   ],
   "source": [
    "# load login jsons into data frame\n",
    "filepath = '/Users/brentmarijensen//ultimate_challenge/logins.json'\n",
    "df = pd.read_json(filepath)\n",
    "\n",
    "print(type(df))\n",
    "print(len(df['login_time']))\n",
    "df_copy = df"
   ]
  },
  {
   "cell_type": "code",
   "execution_count": 33,
   "metadata": {},
   "outputs": [
    {
     "name": "stdout",
     "output_type": "stream",
     "text": [
      "type <class 'pandas.core.frame.DataFrame'>\n",
      "shape (93142, 1)\n",
      "\n",
      "<class 'pandas.core.frame.DataFrame'>\n",
      "Int64Index: 93142 entries, 0 to 93141\n",
      "Data columns (total 1 columns):\n",
      "login_time    93142 non-null datetime64[ns]\n",
      "dtypes: datetime64[ns](1)\n",
      "memory usage: 1.4 MB\n",
      "info None\n",
      "\n",
      "columns: Index(['login_time'], dtype='object')\n",
      "           login_time\n",
      "0 1970-01-01 20:13:18\n",
      "1 1970-01-01 20:16:10\n",
      "2 1970-01-01 20:16:37\n",
      "3 1970-01-01 20:16:36\n",
      "4 1970-01-01 20:26:21\n"
     ]
    },
    {
     "data": {
      "text/html": [
       "<div>\n",
       "<style scoped>\n",
       "    .dataframe tbody tr th:only-of-type {\n",
       "        vertical-align: middle;\n",
       "    }\n",
       "\n",
       "    .dataframe tbody tr th {\n",
       "        vertical-align: top;\n",
       "    }\n",
       "\n",
       "    .dataframe thead th {\n",
       "        text-align: right;\n",
       "    }\n",
       "</style>\n",
       "<table border=\"1\" class=\"dataframe\">\n",
       "  <thead>\n",
       "    <tr style=\"text-align: right;\">\n",
       "      <th></th>\n",
       "      <th>login_time</th>\n",
       "    </tr>\n",
       "  </thead>\n",
       "  <tbody>\n",
       "    <tr>\n",
       "      <th>93137</th>\n",
       "      <td>1970-04-13 18:50:19</td>\n",
       "    </tr>\n",
       "    <tr>\n",
       "      <th>93138</th>\n",
       "      <td>1970-04-13 18:43:56</td>\n",
       "    </tr>\n",
       "    <tr>\n",
       "      <th>93139</th>\n",
       "      <td>1970-04-13 18:54:02</td>\n",
       "    </tr>\n",
       "    <tr>\n",
       "      <th>93140</th>\n",
       "      <td>1970-04-13 18:57:38</td>\n",
       "    </tr>\n",
       "    <tr>\n",
       "      <th>93141</th>\n",
       "      <td>1970-04-13 18:54:23</td>\n",
       "    </tr>\n",
       "  </tbody>\n",
       "</table>\n",
       "</div>"
      ],
      "text/plain": [
       "               login_time\n",
       "93137 1970-04-13 18:50:19\n",
       "93138 1970-04-13 18:43:56\n",
       "93139 1970-04-13 18:54:02\n",
       "93140 1970-04-13 18:57:38\n",
       "93141 1970-04-13 18:54:23"
      ]
     },
     "execution_count": 33,
     "metadata": {},
     "output_type": "execute_result"
    }
   ],
   "source": [
    "print('type', type(df))\n",
    "print('shape', df.shape)\n",
    "print('')\n",
    "print('info',df.info())\n",
    "print('')\n",
    "print('columns:',df.columns)\n",
    "print(df.head())\n",
    "df.tail()"
   ]
  },
  {
   "cell_type": "markdown",
   "metadata": {},
   "source": [
    "\"logins.json\" data is a list of datetimes.  No non-null values.  Range from Jan 1 to April 13, 1970, 103 days.  \n",
    "Histogram below shows no missing days.  The graph shows a weekly pattern.  It appears that Fri and Sat are the busiest days.  Jan 1 1970 was a Thursday.  \n",
    "Logins steadily increased over the 3.4 months."
   ]
  },
  {
   "cell_type": "code",
   "execution_count": 37,
   "metadata": {},
   "outputs": [
    {
     "data": {
      "image/png": "[encoded data removed]",
      "text/plain": [
       "<matplotlib.figure.Figure at 0x1a1c75ae48>"
      ]
     },
     "metadata": {},
     "output_type": "display_data"
    }
   ],
   "source": [
    "# plot the login data\n",
    "_= df.login_time.hist(bins=103, figsize=(18,7))\n",
    "_= plt.title('Number of Logins per day')\n",
    "_= plt.xlabel('Login date')\n",
    "_= plt.ylabel('Count of Logins')\n",
    "plt.show()"
   ]
  },
  {
   "cell_type": "code",
   "execution_count": 38,
   "metadata": {},
   "outputs": [
    {
     "data": {
      "image/png": "[encoded data removed]",
      "text/plain": [
       "<matplotlib.figure.Figure at 0x1a19eaceb8>"
      ]
     },
     "metadata": {},
     "output_type": "display_data"
    }
   ],
   "source": [
    "df.set_index(df.login_time, inplace=True)\n",
    "df.groupby(pd.Grouper(freq = '15Min'))\n",
    "groups_15m = df.resample('15Min').count()\n",
    "\n",
    "_= groups_15m.hist(bins=300,figsize=(11,7))\n",
    "_= plt.title('Number of 15 minute Intervals with Logins')\n",
    "_= plt.xlabel('Logins per interval')\n",
    "_= plt.ylabel('Count of intervals')\n",
    "plt.show()"
   ]
  },
  {
   "cell_type": "code",
   "execution_count": 39,
   "metadata": {},
   "outputs": [
    {
     "data": {
      "image/png": "[encoded data removed]",
      "text/plain": [
       "<matplotlib.figure.Figure at 0x108296eb8>"
      ]
     },
     "metadata": {},
     "output_type": "display_data"
    }
   ],
   "source": [
    "# plot a single day  Feb 4, Wednesday\n",
    "groups_15m['1970-02-04': '1970-02-04'].plot(figsize=(7,4))\n",
    "plt.ylabel('Count of logins')\n",
    "plt.show()"
   ]
  },
  {
   "cell_type": "code",
   "execution_count": 40,
   "metadata": {},
   "outputs": [
    {
     "data": {
      "image/png": "[encoded data removed]",
      "text/plain": [
       "<matplotlib.figure.Figure at 0x1a1babb5c0>"
      ]
     },
     "metadata": {},
     "output_type": "display_data"
    }
   ],
   "source": [
    "# plot a single day  Feb 7, Saturday\n",
    "groups_15m['1970-02-07': '1970-02-07'].plot(figsize=(7,4))\n",
    "plt.ylabel('Count of logins')\n",
    "plt.show()"
   ]
  },
  {
   "cell_type": "markdown",
   "metadata": {},
   "source": [
    "On Wed Feb 4, a surge of logins occured from 11am to 3pm, with another surge late at night from 9pm to 2am.  This may reflect lunch time riders or food deliveries, and late night rides home from bars or restaurants.  \n",
    "On Sat Feb 7, logins were heavy from 12am to 4am, with a large surge at 4am!  (Is last call in Gotham at 4am?)  \n",
    "Sat logins far outpaced Wed logins.  \n",
    "Note: this is just a quick sample of two days.  Below is a count of each day of the week, and each hour of the day, cumulative over the 103 day period."
   ]
  },
  {
   "cell_type": "code",
   "execution_count": 58,
   "metadata": {},
   "outputs": [
    {
     "data": {
      "text/plain": [
       "1.0"
      ]
     },
     "execution_count": 58,
     "metadata": {},
     "output_type": "execute_result"
    }
   ],
   "source": []
  },
  {
   "cell_type": "code",
   "execution_count": 60,
   "metadata": {},
   "outputs": [
    {
     "name": "stdout",
     "output_type": "stream",
     "text": [
      "number of rides by day of the week (Sun-Sat):\n",
      "0     8823\n",
      "1     9268\n",
      "2    10339\n",
      "3    11960\n",
      "4    15208\n",
      "5    19377\n",
      "6    18167\n",
      "Name: day_of_week, dtype: int64\n",
      "weekend total: 37544.0 per day: 18772.0\n",
      "weekday total: 55598.0 per day: 11119.6\n",
      " \n",
      "number of rides by hour of day:\n",
      "0     5993\n",
      "1     6317\n",
      "2     5800\n",
      "3     4831\n",
      "4     5034\n",
      "5     2945\n",
      "6     1138\n",
      "7      815\n",
      "8      818\n",
      "9     1527\n",
      "10    3064\n",
      "11    5799\n",
      "12    4964\n",
      "13    3611\n",
      "14    3426\n",
      "15    3038\n",
      "16    2832\n",
      "17    2584\n",
      "18    2980\n",
      "19    3235\n",
      "20    4103\n",
      "21    5623\n",
      "22    6607\n",
      "23    6058\n",
      "Name: hour, dtype: int64\n"
     ]
    }
   ],
   "source": [
    "# count number of rides by day of the week and by hour of the day\n",
    "df['day_of_week'] = (pd.DatetimeIndex(df.index).dayofweek)\n",
    "print('number of rides by day of the week (Sun-Sat):')\n",
    "print(df['day_of_week'].value_counts().sort_index())\n",
    "df['weekend'] = (df.day_of_week // 5 == 1).astype(float)\n",
    "df[\"weekday\"] = (df.day_of_week < 5).astype(float)\n",
    "print('weekend total:', df.weekend.sum(), 'per day:', df.weekend.sum()/2)\n",
    "print('weekday total:', df.weekday.sum(), 'per day:', df.weekday.sum()/5)\n",
    "\n",
    "print(' ')\n",
    "df['hour'] = (pd.DatetimeIndex(df.index).hour)\n",
    "df['weekend_hour'] = pd.DatetimeIndex(df.weekend.index).hour\n",
    "print('number of rides by hour of day:')\n",
    "print(df.hour.value_counts().sort_index())"
   ]
  },
  {
   "cell_type": "code",
   "execution_count": 44,
   "metadata": {},
   "outputs": [
    {
     "data": {
      "text/plain": [
       "Text(0.5,1,'Logins by day_of_week')"
      ]
     },
     "execution_count": 44,
     "metadata": {},
     "output_type": "execute_result"
    },
    {
     "data": {
      "image/png": "[encoded data removed]",
      "text/plain": [
       "<matplotlib.figure.Figure at 0x1a1c7b2b38>"
      ]
     },
     "metadata": {},
     "output_type": "display_data"
    }
   ],
   "source": [
    "sns.countplot(df.day_of_week)\n",
    "plt.title('Logins by day_of_week')"
   ]
  },
  {
   "cell_type": "code",
   "execution_count": 65,
   "metadata": {},
   "outputs": [
    {
     "data": {
      "text/plain": [
       "Text(0.5,1,'Logins by hour (all days)')"
      ]
     },
     "execution_count": 65,
     "metadata": {},
     "output_type": "execute_result"
    },
    {
     "data": {
      "image/png": "[encoded data removed]",
      "text/plain": [
       "<matplotlib.figure.Figure at 0x10c849f60>"
      ]
     },
     "metadata": {},
     "output_type": "display_data"
    }
   ],
   "source": [
    "sns.countplot(df.hour)\n",
    "plt.title('Logins by hour (all days)')"
   ]
  },
  {
   "cell_type": "code",
   "execution_count": 66,
   "metadata": {},
   "outputs": [
    {
     "data": {
      "text/plain": [
       "Text(0.5,1,'Logins by hour (weekends)')"
      ]
     },
     "execution_count": 66,
     "metadata": {},
     "output_type": "execute_result"
    },
    {
     "data": {
      "image/png": "[encoded data removed]",
      "text/plain": [
       "<matplotlib.figure.Figure at 0x10d160860>"
      ]
     },
     "metadata": {},
     "output_type": "display_data"
    }
   ],
   "source": [
    "sns.countplot(df[df.weekend==1].hour)\n",
    "plt.title('Logins by hour (weekends)')"
   ]
  },
  {
   "cell_type": "code",
   "execution_count": 67,
   "metadata": {},
   "outputs": [
    {
     "data": {
      "text/plain": [
       "Text(0.5,1,'Logins by hour (weekdays)')"
      ]
     },
     "execution_count": 67,
     "metadata": {},
     "output_type": "execute_result"
    },
    {
     "data": {
      "image/png": "[encoded data removed]",
      "text/plain": [
       "<matplotlib.figure.Figure at 0x10829f2b0>"
      ]
     },
     "metadata": {},
     "output_type": "display_data"
    }
   ],
   "source": [
    "sns.countplot(df[df.weekend==0].hour)\n",
    "plt.title('Logins by hour (weekdays)')"
   ]
  },
  {
   "cell_type": "markdown",
   "metadata": {},
   "source": [
    "### Part 2 ‑ Experiment and metrics design  \n",
    "<div class=\"span5 alert alert-info\">  The neighboring cities of Gotham and Metropolis have complementary circadian rhythms: on\n",
    "weekdays, Ultimate Gotham is most active at night, and Ultimate Metropolis is most active during the day. On weekends, there is reasonable activity in both cities.  \n",
    "However, a toll bridge, with a two­way toll, between the two cities causes driver partners to tend to be exclusive to each city. The Ultimate managers of city operations for the two cities have proposed an experiment to encourage driver partners to be available in both cities, by reimbursing all toll costs.  \n",
    "1. What would you choose as the key measure of success of this experiment in encouraging driver partners to serve both cities, and why would you choose this metric?  \n",
    "2. Describe a practical experiment you would design to compare the effectiveness of the proposed change in relation to the key measure of success. Please provide details on:  \n",
    "a. how you will implement the experiment  \n",
    "b. what statistical test(s) you will conduct to verify the significance of the observation  \n",
    "c. how you would interpret the results and provide recommendations to the city operations team along with any caveats.  \n",
    "</div>"
   ]
  },
  {
   "cell_type": "markdown",
   "metadata": {},
   "source": [
    "1 To answer the question directly, we could count number of drivers who cross the bridge.  Measure logins on the bridge between the cities.  \n",
    "\n",
    "However, I sense an assumption that more driver mobility might increase availability and thus rider engagement and satisfaction.  It's good to check.  I'd measure engagement and satisfaction.  These metrics should be available by ratings, number of rides, and wait times.   \n",
    "\n",
    "I'd also measure change in revenue.  If profitability doesn't increase, it may not be worth the cost.\n",
    "\n",
    "2 I propose an A/B test with random drivers reimbursed for bridge tolls, and others not.  The test should run for several weeks, to factor out day variability and seasonality.  Measure *bridge logins*, to see if they make use of the program, and then measure *user ratings*, *number of rides*, *wait times*, and *revenue*.  Compare the metrics between pilot group to control group, and measure statistical significance with a hypothesis test.  \n",
    "\n",
    "If the test does not show significant benefit, I recommend to discontinue the test.  \n",
    "If the test shows a significant change and benefit, then I'd provide a report of all the measurements, and recommend a full rollout.  \n",
    "A full rollout could be 100% reimbursement to all drivers, or the reimbursement could be used as incentive for drivers who hit minimum numbers of hours or rides.  It could also be used at certain times or days (with the hope that drivers might cross the bridge more often even when not reimbursed.)  "
   ]
  },
  {
   "cell_type": "markdown",
   "metadata": {},
   "source": [
    "### Part 3 ‑ Predictive modeling\n",
    "<div class=\"span5 alert alert-info\">  \n",
    "Ultimate is interested in predicting rider retention. To help explore this question, we have provided a sample dataset of a cohort of users who signed up for an Ultimate account in January 2014. The data was pulled several months later; we consider a user retained if they were “active” (i.e. took a trip) in the preceding 30 days.\n",
    "We would like you to use this data set to help understand what factors are the best predictors for retention, and offer suggestions to operationalize those insights to help Ultimate.\n",
    "\n",
    "The data is in the attached file ultimate_data_challenge.json. See below for a detailed description of the dataset. Please include any code you wrote for the analysis and delete the dataset when you have finished with the challenge.  \n",
    "1. Perform any cleaning, exploratory analysis, and/or visualizations to use the provided data for this analysis (a few sentences/plots describing your approach will suffice). What fraction of the observed users were retained?  \n",
    "2. Build a predictive model to help Ultimate determine whether or not a user will be active in their 6th month on the system. Discuss why you chose your approach, what alternatives you considered, and any concerns you have. How valid is your model?  Include any key indicators of model performance.  \n",
    "3. Briefly discuss how Ultimate might leverage the insights gained from the model to improve its long­term rider retention (again, a few sentences will suffice).   \n",
    "Data description:  \n",
    "● city: city this user signed up in  \n",
    "● phone: primary device for this user  \n",
    "● signup_date: date of account registration; in the form ‘YYYYMMDD’  \n",
    "● last_trip_date: the last time this user completed a trip; in the form ‘YYYYMMDD’  \n",
    "● avg_dist: the average distance in miles per trip taken in the first 30 days after signup  \n",
    "● avg_rating_by_driver: the rider’s average rating over all of their trips  \n",
    "● avg_rating_of_driver: the rider’s average rating of their drivers over all of their trips  \n",
    "● surge_pct: the percent of trips taken with surge multiplier > 1  \n",
    "● avg_surge: The average surge multiplier over all of this user’s trips  \n",
    "● trips_in_first_30_days: the number of trips this user took in the first 30 days after signing up  \n",
    "● ultimate_black_user: TRUE if the user took an Ultimate Black in their first 30 days; FALSE otherwise  \n",
    "● weekday_pct: the percent of the user’s trips occurring during a weekday  \n",
    "</div>"
   ]
  },
  {
   "cell_type": "code",
   "execution_count": 513,
   "metadata": {},
   "outputs": [
    {
     "name": "stdout",
     "output_type": "stream",
     "text": [
      "<class 'pandas.core.frame.DataFrame'>\n",
      "50000\n"
     ]
    }
   ],
   "source": [
    "# import packages \n",
    "import numpy as np\n",
    "import pandas as pd\n",
    "import json\n",
    "from pandas.io.json import json_normalize\n",
    "import matplotlib.pyplot as plt\n",
    "%matplotlib inline\n",
    "\n",
    "# load login jsons into data frame\n",
    "# I was unable to open it directly with pd.read_json, got ValueError, so there is bad data\n",
    "filepath2 = '/Users/brentmarijensen//ultimate_challenge/ultimate_data_challenge.json'\n",
    "with open(filepath2) as file:\n",
    "    data = json.load(file)\n",
    "ultimate = pd.DataFrame(data)\n",
    "\n",
    "print(type(ultimate))\n",
    "print(len(ultimate))\n",
    "ultimate_copy = ultimate"
   ]
  },
  {
   "cell_type": "code",
   "execution_count": 514,
   "metadata": {},
   "outputs": [
    {
     "name": "stdout",
     "output_type": "stream",
     "text": [
      "Number active is 0.36%\n"
     ]
    }
   ],
   "source": [
    "# CLEAN THE DATA, and some minor feature engineering\n",
    "\n",
    "# I should probably change the dates (text) to dates (datetime)  but I thought of it late.  \n",
    "# If I have time later, I can change them, and then change the code that uses the dates.\n",
    "#df['last_trip_date'] = pd.to_datetime(df['last_trip_date'])\n",
    "#df['signup_date'] = pd.to_datetime(df['signup_date'])\n",
    "\n",
    "ultimate['phone'] = ultimate['phone'].fillna(-1)\n",
    "\n",
    "ultimate['avg_rating_by_driver'].fillna(ultimate['avg_rating_by_driver'].mean(), inplace=True)\n",
    "ultimate['avg_rating_of_driver'].fillna(ultimate['avg_rating_of_driver'].mean(), inplace=True)\n",
    "\n",
    "# add an active column, showing 1 if active within last 30 days, else 0.\n",
    "# this will be the target, so we should drop the last_trip_date column (it would be the 'ultimate' predictor.)\n",
    "ultimate['active'] = 0\n",
    "ultimate.loc[ultimate.last_trip_date > '2014-06-02', 'active' ] = 1\n",
    "ultimate = ultimate.drop('last_trip_date', axis=1)\n",
    "\n",
    "# dates are strings.  Change them to 3 digit integer, so the classifier can read them.\n",
    "#divide by 100 so they are same scale as other vars\n",
    "import re\n",
    "def date_to_number(line):\n",
    "    number = re.sub('-','' , line)  # remove dash\n",
    "    number = int(number[-3:])/100   #truncate to 3 digit integer\n",
    "    return number\n",
    "# clean the strings\n",
    "ultimate['signup_date'] = ultimate['signup_date'].apply(date_to_number)\n",
    "#ultimate['last_trip_date'] = ultimate['last_trip_date'].apply(date_to_number)\n",
    "\n",
    "active_pct = sum(ultimate.active)/len(ultimate)\n",
    "print('Number active is {:0.2f}%'.format(active_pct))\n",
    "\n",
    "# create new boolean categories to separate out CITY (1-2) and PHONE (1-2)\n",
    "# drop one of each, because redundant info\n",
    "city = pd.get_dummies(ultimate['city'],prefix='city') #create city binaries\n",
    "city = city.drop('city_Winterfell', axis=1) #drop one binary (all info contained in the remainder)\n",
    "ultimate = ultimate.drop('city',axis=1) #drop old city variable\n",
    "ultimate = ultimate.join(city) #attach binaries to the dataframe\n",
    "\n",
    "pho = pd.get_dummies(ultimate['phone'],prefix='pho') #create phone binaries\n",
    "pho = pho.drop('pho_-1', axis=1)\n",
    "ultimate = ultimate.drop('phone',axis=1) #drop old phone variable\n",
    "ultimate = ultimate.join(pho) #attach binaries to the  dataframe\n",
    "\n",
    "ultimate.weekday_pct = ultimate.weekday_pct/100\n",
    "ultimate.surge_pct = ultimate.surge_pct/100\n",
    "ultimate.avg_rating_by_driver = ultimate.avg_rating_by_driver/5\n",
    "ultimate.avg_rating_of_driver = ultimate.avg_rating_of_driver/5\n",
    "ultimate.avg_dist = ultimate.avg_dist/5\n",
    "                                   \n",
    "ultimate = ultimate.drop('surge_pct',axis=1)"
   ]
  },
  {
   "cell_type": "code",
   "execution_count": null,
   "metadata": {},
   "outputs": [],
   "source": []
  },
  {
   "cell_type": "code",
   "execution_count": 494,
   "metadata": {},
   "outputs": [
    {
     "data": {
      "text/plain": [
       "<bound method IndexOpsMixin.value_counts of 0        1.386294\n",
       "1            -inf\n",
       "2        1.098612\n",
       "3        2.197225\n",
       "4        2.639057\n",
       "5        0.693147\n",
       "6        0.000000\n",
       "7        0.693147\n",
       "8        0.693147\n",
       "9        0.000000\n",
       "10       0.000000\n",
       "11       1.098612\n",
       "12       0.000000\n",
       "13           -inf\n",
       "14       0.000000\n",
       "15       0.000000\n",
       "16       0.000000\n",
       "17           -inf\n",
       "18       1.791759\n",
       "19           -inf\n",
       "20       0.000000\n",
       "21       0.000000\n",
       "22           -inf\n",
       "23           -inf\n",
       "24       1.386294\n",
       "25       0.000000\n",
       "26       0.000000\n",
       "27       1.098612\n",
       "28           -inf\n",
       "29       0.000000\n",
       "           ...   \n",
       "49970    0.693147\n",
       "49971        -inf\n",
       "49972    0.000000\n",
       "49973    0.693147\n",
       "49974    0.000000\n",
       "49975    2.397895\n",
       "49976        -inf\n",
       "49977    1.386294\n",
       "49978    0.000000\n",
       "49979        -inf\n",
       "49980    0.000000\n",
       "49981        -inf\n",
       "49982        -inf\n",
       "49983    0.000000\n",
       "49984    0.000000\n",
       "49985    0.000000\n",
       "49986        -inf\n",
       "49987    1.098612\n",
       "49988    0.000000\n",
       "49989    0.000000\n",
       "49990    0.000000\n",
       "49991        -inf\n",
       "49992    0.000000\n",
       "49993    1.098612\n",
       "49994    0.000000\n",
       "49995        -inf\n",
       "49996    0.000000\n",
       "49997        -inf\n",
       "49998    0.693147\n",
       "49999        -inf\n",
       "Name: trips_in_first_30_days, Length: 50000, dtype: float64>"
      ]
     },
     "execution_count": 494,
     "metadata": {},
     "output_type": "execute_result"
    }
   ],
   "source": [
    "ultimate.trips_in_first_30_days.value_counts"
   ]
  },
  {
   "cell_type": "markdown",
   "metadata": {},
   "source": [
    "## EDA:  let's look at the data"
   ]
  },
  {
   "cell_type": "code",
   "execution_count": 470,
   "metadata": {},
   "outputs": [
    {
     "data": {
      "text/html": [
       "<div>\n",
       "<style scoped>\n",
       "    .dataframe tbody tr th:only-of-type {\n",
       "        vertical-align: middle;\n",
       "    }\n",
       "\n",
       "    .dataframe tbody tr th {\n",
       "        vertical-align: top;\n",
       "    }\n",
       "\n",
       "    .dataframe thead th {\n",
       "        text-align: right;\n",
       "    }\n",
       "</style>\n",
       "<table border=\"1\" class=\"dataframe\">\n",
       "  <thead>\n",
       "    <tr style=\"text-align: right;\">\n",
       "      <th></th>\n",
       "      <th>avg_dist</th>\n",
       "      <th>avg_rating_by_driver</th>\n",
       "      <th>avg_rating_of_driver</th>\n",
       "      <th>avg_surge</th>\n",
       "      <th>city</th>\n",
       "      <th>last_trip_date</th>\n",
       "      <th>phone</th>\n",
       "      <th>signup_date</th>\n",
       "      <th>surge_pct</th>\n",
       "      <th>trips_in_first_30_days</th>\n",
       "      <th>ultimate_black_user</th>\n",
       "      <th>weekday_pct</th>\n",
       "    </tr>\n",
       "  </thead>\n",
       "  <tbody>\n",
       "    <tr>\n",
       "      <th>0</th>\n",
       "      <td>3.67</td>\n",
       "      <td>5.0</td>\n",
       "      <td>4.7</td>\n",
       "      <td>1.10</td>\n",
       "      <td>King's Landing</td>\n",
       "      <td>2014-06-17</td>\n",
       "      <td>iPhone</td>\n",
       "      <td>2014-01-25</td>\n",
       "      <td>15.4</td>\n",
       "      <td>4</td>\n",
       "      <td>True</td>\n",
       "      <td>46.2</td>\n",
       "    </tr>\n",
       "    <tr>\n",
       "      <th>1</th>\n",
       "      <td>8.26</td>\n",
       "      <td>5.0</td>\n",
       "      <td>5.0</td>\n",
       "      <td>1.00</td>\n",
       "      <td>Astapor</td>\n",
       "      <td>2014-05-05</td>\n",
       "      <td>Android</td>\n",
       "      <td>2014-01-29</td>\n",
       "      <td>0.0</td>\n",
       "      <td>0</td>\n",
       "      <td>False</td>\n",
       "      <td>50.0</td>\n",
       "    </tr>\n",
       "    <tr>\n",
       "      <th>2</th>\n",
       "      <td>0.77</td>\n",
       "      <td>5.0</td>\n",
       "      <td>4.3</td>\n",
       "      <td>1.00</td>\n",
       "      <td>Astapor</td>\n",
       "      <td>2014-01-07</td>\n",
       "      <td>iPhone</td>\n",
       "      <td>2014-01-06</td>\n",
       "      <td>0.0</td>\n",
       "      <td>3</td>\n",
       "      <td>False</td>\n",
       "      <td>100.0</td>\n",
       "    </tr>\n",
       "    <tr>\n",
       "      <th>3</th>\n",
       "      <td>2.36</td>\n",
       "      <td>4.9</td>\n",
       "      <td>4.6</td>\n",
       "      <td>1.14</td>\n",
       "      <td>King's Landing</td>\n",
       "      <td>2014-06-29</td>\n",
       "      <td>iPhone</td>\n",
       "      <td>2014-01-10</td>\n",
       "      <td>20.0</td>\n",
       "      <td>9</td>\n",
       "      <td>True</td>\n",
       "      <td>80.0</td>\n",
       "    </tr>\n",
       "    <tr>\n",
       "      <th>4</th>\n",
       "      <td>3.13</td>\n",
       "      <td>4.9</td>\n",
       "      <td>4.4</td>\n",
       "      <td>1.19</td>\n",
       "      <td>Winterfell</td>\n",
       "      <td>2014-03-15</td>\n",
       "      <td>Android</td>\n",
       "      <td>2014-01-27</td>\n",
       "      <td>11.8</td>\n",
       "      <td>14</td>\n",
       "      <td>False</td>\n",
       "      <td>82.4</td>\n",
       "    </tr>\n",
       "  </tbody>\n",
       "</table>\n",
       "</div>"
      ],
      "text/plain": [
       "   avg_dist  avg_rating_by_driver  avg_rating_of_driver  avg_surge  \\\n",
       "0      3.67                   5.0                   4.7       1.10   \n",
       "1      8.26                   5.0                   5.0       1.00   \n",
       "2      0.77                   5.0                   4.3       1.00   \n",
       "3      2.36                   4.9                   4.6       1.14   \n",
       "4      3.13                   4.9                   4.4       1.19   \n",
       "\n",
       "             city last_trip_date    phone signup_date  surge_pct  \\\n",
       "0  King's Landing     2014-06-17   iPhone  2014-01-25       15.4   \n",
       "1         Astapor     2014-05-05  Android  2014-01-29        0.0   \n",
       "2         Astapor     2014-01-07   iPhone  2014-01-06        0.0   \n",
       "3  King's Landing     2014-06-29   iPhone  2014-01-10       20.0   \n",
       "4      Winterfell     2014-03-15  Android  2014-01-27       11.8   \n",
       "\n",
       "   trips_in_first_30_days  ultimate_black_user  weekday_pct  \n",
       "0                       4                 True         46.2  \n",
       "1                       0                False         50.0  \n",
       "2                       3                False        100.0  \n",
       "3                       9                 True         80.0  \n",
       "4                      14                False         82.4  "
      ]
     },
     "execution_count": 470,
     "metadata": {},
     "output_type": "execute_result"
    }
   ],
   "source": [
    "# before cleaning/engineering\n",
    "ultimate.head()"
   ]
  },
  {
   "cell_type": "code",
   "execution_count": 510,
   "metadata": {},
   "outputs": [
    {
     "data": {
      "text/html": [
       "<div>\n",
       "<style scoped>\n",
       "    .dataframe tbody tr th:only-of-type {\n",
       "        vertical-align: middle;\n",
       "    }\n",
       "\n",
       "    .dataframe tbody tr th {\n",
       "        vertical-align: top;\n",
       "    }\n",
       "\n",
       "    .dataframe thead th {\n",
       "        text-align: right;\n",
       "    }\n",
       "</style>\n",
       "<table border=\"1\" class=\"dataframe\">\n",
       "  <thead>\n",
       "    <tr style=\"text-align: right;\">\n",
       "      <th></th>\n",
       "      <th>avg_dist</th>\n",
       "      <th>avg_rating_by_driver</th>\n",
       "      <th>avg_rating_of_driver</th>\n",
       "      <th>avg_surge</th>\n",
       "      <th>signup_date</th>\n",
       "      <th>trips_in_first_30_days</th>\n",
       "      <th>ultimate_black_user</th>\n",
       "      <th>weekday_pct</th>\n",
       "      <th>active</th>\n",
       "      <th>city_Astapor</th>\n",
       "      <th>city_King's Landing</th>\n",
       "      <th>pho_Android</th>\n",
       "      <th>pho_iPhone</th>\n",
       "    </tr>\n",
       "  </thead>\n",
       "  <tbody>\n",
       "    <tr>\n",
       "      <th>0</th>\n",
       "      <td>0.734</td>\n",
       "      <td>1.00</td>\n",
       "      <td>0.94</td>\n",
       "      <td>1.10</td>\n",
       "      <td>1.25</td>\n",
       "      <td>4</td>\n",
       "      <td>True</td>\n",
       "      <td>0.462</td>\n",
       "      <td>1</td>\n",
       "      <td>0</td>\n",
       "      <td>1</td>\n",
       "      <td>0</td>\n",
       "      <td>1</td>\n",
       "    </tr>\n",
       "    <tr>\n",
       "      <th>1</th>\n",
       "      <td>1.652</td>\n",
       "      <td>1.00</td>\n",
       "      <td>1.00</td>\n",
       "      <td>1.00</td>\n",
       "      <td>1.29</td>\n",
       "      <td>0</td>\n",
       "      <td>False</td>\n",
       "      <td>0.500</td>\n",
       "      <td>0</td>\n",
       "      <td>1</td>\n",
       "      <td>0</td>\n",
       "      <td>1</td>\n",
       "      <td>0</td>\n",
       "    </tr>\n",
       "    <tr>\n",
       "      <th>2</th>\n",
       "      <td>0.154</td>\n",
       "      <td>1.00</td>\n",
       "      <td>0.86</td>\n",
       "      <td>1.00</td>\n",
       "      <td>1.06</td>\n",
       "      <td>3</td>\n",
       "      <td>False</td>\n",
       "      <td>1.000</td>\n",
       "      <td>0</td>\n",
       "      <td>1</td>\n",
       "      <td>0</td>\n",
       "      <td>0</td>\n",
       "      <td>1</td>\n",
       "    </tr>\n",
       "    <tr>\n",
       "      <th>3</th>\n",
       "      <td>0.472</td>\n",
       "      <td>0.98</td>\n",
       "      <td>0.92</td>\n",
       "      <td>1.14</td>\n",
       "      <td>1.10</td>\n",
       "      <td>9</td>\n",
       "      <td>True</td>\n",
       "      <td>0.800</td>\n",
       "      <td>1</td>\n",
       "      <td>0</td>\n",
       "      <td>1</td>\n",
       "      <td>0</td>\n",
       "      <td>1</td>\n",
       "    </tr>\n",
       "    <tr>\n",
       "      <th>4</th>\n",
       "      <td>0.626</td>\n",
       "      <td>0.98</td>\n",
       "      <td>0.88</td>\n",
       "      <td>1.19</td>\n",
       "      <td>1.27</td>\n",
       "      <td>14</td>\n",
       "      <td>False</td>\n",
       "      <td>0.824</td>\n",
       "      <td>0</td>\n",
       "      <td>0</td>\n",
       "      <td>0</td>\n",
       "      <td>1</td>\n",
       "      <td>0</td>\n",
       "    </tr>\n",
       "  </tbody>\n",
       "</table>\n",
       "</div>"
      ],
      "text/plain": [
       "   avg_dist  avg_rating_by_driver  avg_rating_of_driver  avg_surge  \\\n",
       "0     0.734                  1.00                  0.94       1.10   \n",
       "1     1.652                  1.00                  1.00       1.00   \n",
       "2     0.154                  1.00                  0.86       1.00   \n",
       "3     0.472                  0.98                  0.92       1.14   \n",
       "4     0.626                  0.98                  0.88       1.19   \n",
       "\n",
       "   signup_date  trips_in_first_30_days  ultimate_black_user  weekday_pct  \\\n",
       "0         1.25                       4                 True        0.462   \n",
       "1         1.29                       0                False        0.500   \n",
       "2         1.06                       3                False        1.000   \n",
       "3         1.10                       9                 True        0.800   \n",
       "4         1.27                      14                False        0.824   \n",
       "\n",
       "   active  city_Astapor  city_King's Landing  pho_Android  pho_iPhone  \n",
       "0       1             0                    1            0           1  \n",
       "1       0             1                    0            1           0  \n",
       "2       0             1                    0            0           1  \n",
       "3       1             0                    1            0           1  \n",
       "4       0             0                    0            1           0  "
      ]
     },
     "execution_count": 510,
     "metadata": {},
     "output_type": "execute_result"
    }
   ],
   "source": [
    "# after cleaning/engineering\n",
    "ultimate.head()"
   ]
  },
  {
   "cell_type": "code",
   "execution_count": null,
   "metadata": {},
   "outputs": [],
   "source": []
  },
  {
   "cell_type": "code",
   "execution_count": 421,
   "metadata": {},
   "outputs": [
    {
     "name": "stdout",
     "output_type": "stream",
     "text": [
      "type <class 'pandas.core.frame.DataFrame'>\n",
      "shape (50000, 12)\n",
      "\n",
      "<class 'pandas.core.frame.DataFrame'>\n",
      "RangeIndex: 50000 entries, 0 to 49999\n",
      "Data columns (total 12 columns):\n",
      "avg_dist                  50000 non-null float64\n",
      "avg_rating_by_driver      49799 non-null float64\n",
      "avg_rating_of_driver      41878 non-null float64\n",
      "avg_surge                 50000 non-null float64\n",
      "city                      50000 non-null object\n",
      "last_trip_date            50000 non-null object\n",
      "phone                     49604 non-null object\n",
      "signup_date               50000 non-null object\n",
      "surge_pct                 50000 non-null float64\n",
      "trips_in_first_30_days    50000 non-null int64\n",
      "ultimate_black_user       50000 non-null bool\n",
      "weekday_pct               50000 non-null float64\n",
      "dtypes: bool(1), float64(6), int64(1), object(4)\n",
      "memory usage: 4.2+ MB\n",
      "info None\n",
      "\n",
      "columns: Index(['avg_dist', 'avg_rating_by_driver', 'avg_rating_of_driver', 'avg_surge',\n",
      "       'city', 'last_trip_date', 'phone', 'signup_date', 'surge_pct',\n",
      "       'trips_in_first_30_days', 'ultimate_black_user', 'weekday_pct'],\n",
      "      dtype='object')\n"
     ]
    },
    {
     "data": {
      "text/html": [
       "<div>\n",
       "<style scoped>\n",
       "    .dataframe tbody tr th:only-of-type {\n",
       "        vertical-align: middle;\n",
       "    }\n",
       "\n",
       "    .dataframe tbody tr th {\n",
       "        vertical-align: top;\n",
       "    }\n",
       "\n",
       "    .dataframe thead th {\n",
       "        text-align: right;\n",
       "    }\n",
       "</style>\n",
       "<table border=\"1\" class=\"dataframe\">\n",
       "  <thead>\n",
       "    <tr style=\"text-align: right;\">\n",
       "      <th></th>\n",
       "      <th>avg_dist</th>\n",
       "      <th>avg_rating_by_driver</th>\n",
       "      <th>avg_rating_of_driver</th>\n",
       "      <th>avg_surge</th>\n",
       "      <th>city</th>\n",
       "      <th>last_trip_date</th>\n",
       "      <th>phone</th>\n",
       "      <th>signup_date</th>\n",
       "      <th>surge_pct</th>\n",
       "      <th>trips_in_first_30_days</th>\n",
       "      <th>ultimate_black_user</th>\n",
       "      <th>weekday_pct</th>\n",
       "    </tr>\n",
       "  </thead>\n",
       "  <tbody>\n",
       "    <tr>\n",
       "      <th>49995</th>\n",
       "      <td>5.63</td>\n",
       "      <td>4.2</td>\n",
       "      <td>5.0</td>\n",
       "      <td>1.0</td>\n",
       "      <td>King's Landing</td>\n",
       "      <td>2014-06-05</td>\n",
       "      <td>iPhone</td>\n",
       "      <td>2014-01-25</td>\n",
       "      <td>0.0</td>\n",
       "      <td>0</td>\n",
       "      <td>False</td>\n",
       "      <td>100.0</td>\n",
       "    </tr>\n",
       "    <tr>\n",
       "      <th>49996</th>\n",
       "      <td>0.00</td>\n",
       "      <td>4.0</td>\n",
       "      <td>NaN</td>\n",
       "      <td>1.0</td>\n",
       "      <td>Astapor</td>\n",
       "      <td>2014-01-25</td>\n",
       "      <td>iPhone</td>\n",
       "      <td>2014-01-24</td>\n",
       "      <td>0.0</td>\n",
       "      <td>1</td>\n",
       "      <td>False</td>\n",
       "      <td>0.0</td>\n",
       "    </tr>\n",
       "    <tr>\n",
       "      <th>49997</th>\n",
       "      <td>3.86</td>\n",
       "      <td>5.0</td>\n",
       "      <td>5.0</td>\n",
       "      <td>1.0</td>\n",
       "      <td>Winterfell</td>\n",
       "      <td>2014-05-22</td>\n",
       "      <td>Android</td>\n",
       "      <td>2014-01-31</td>\n",
       "      <td>0.0</td>\n",
       "      <td>0</td>\n",
       "      <td>True</td>\n",
       "      <td>100.0</td>\n",
       "    </tr>\n",
       "    <tr>\n",
       "      <th>49998</th>\n",
       "      <td>4.58</td>\n",
       "      <td>3.5</td>\n",
       "      <td>3.0</td>\n",
       "      <td>1.0</td>\n",
       "      <td>Astapor</td>\n",
       "      <td>2014-01-15</td>\n",
       "      <td>iPhone</td>\n",
       "      <td>2014-01-14</td>\n",
       "      <td>0.0</td>\n",
       "      <td>2</td>\n",
       "      <td>False</td>\n",
       "      <td>100.0</td>\n",
       "    </tr>\n",
       "    <tr>\n",
       "      <th>49999</th>\n",
       "      <td>3.49</td>\n",
       "      <td>5.0</td>\n",
       "      <td>NaN</td>\n",
       "      <td>1.0</td>\n",
       "      <td>Astapor</td>\n",
       "      <td>2014-04-20</td>\n",
       "      <td>Android</td>\n",
       "      <td>2014-01-18</td>\n",
       "      <td>0.0</td>\n",
       "      <td>0</td>\n",
       "      <td>False</td>\n",
       "      <td>0.0</td>\n",
       "    </tr>\n",
       "  </tbody>\n",
       "</table>\n",
       "</div>"
      ],
      "text/plain": [
       "       avg_dist  avg_rating_by_driver  avg_rating_of_driver  avg_surge  \\\n",
       "49995      5.63                   4.2                   5.0        1.0   \n",
       "49996      0.00                   4.0                   NaN        1.0   \n",
       "49997      3.86                   5.0                   5.0        1.0   \n",
       "49998      4.58                   3.5                   3.0        1.0   \n",
       "49999      3.49                   5.0                   NaN        1.0   \n",
       "\n",
       "                 city last_trip_date    phone signup_date  surge_pct  \\\n",
       "49995  King's Landing     2014-06-05   iPhone  2014-01-25        0.0   \n",
       "49996         Astapor     2014-01-25   iPhone  2014-01-24        0.0   \n",
       "49997      Winterfell     2014-05-22  Android  2014-01-31        0.0   \n",
       "49998         Astapor     2014-01-15   iPhone  2014-01-14        0.0   \n",
       "49999         Astapor     2014-04-20  Android  2014-01-18        0.0   \n",
       "\n",
       "       trips_in_first_30_days  ultimate_black_user  weekday_pct  \n",
       "49995                       0                False        100.0  \n",
       "49996                       1                False          0.0  \n",
       "49997                       0                 True        100.0  \n",
       "49998                       2                False        100.0  \n",
       "49999                       0                False          0.0  "
      ]
     },
     "execution_count": 421,
     "metadata": {},
     "output_type": "execute_result"
    }
   ],
   "source": [
    "print('type', type(ultimate))\n",
    "print('shape', ultimate.shape)\n",
    "print('')\n",
    "print('info',ultimate.info())\n",
    "print('')\n",
    "print('columns:',ultimate.columns)\n",
    "\n",
    "ultimate.tail()"
   ]
  },
  {
   "cell_type": "markdown",
   "metadata": {},
   "source": [
    "Nulls exist in **avg_rating_by_driver**, **avg_rating_of_driver** and **phone**.  It's possible that no ratings exist for some drivers **by** or **of**.  It's surprising that some records were entered without valid phone type.  In prediction, this might be useful information, and an integer is easier to work with.  Let's fill these NaNs with -1.  For the missing **ratings**, I can't assume a good or bad rating.  I will fill with average rating.  "
   ]
  },
  {
   "cell_type": "code",
   "execution_count": 422,
   "metadata": {},
   "outputs": [
    {
     "data": {
      "text/plain": [
       "iPhone     34582\n",
       "Android    15022\n",
       "Name: phone, dtype: int64"
      ]
     },
     "execution_count": 422,
     "metadata": {},
     "output_type": "execute_result"
    }
   ],
   "source": [
    "ultimate.phone.value_counts()"
   ]
  },
  {
   "cell_type": "code",
   "execution_count": 423,
   "metadata": {},
   "outputs": [],
   "source": [
    "# clean phone info\n",
    "ultimate['phone'] = ultimate['phone'].fillna(-1)"
   ]
  },
  {
   "cell_type": "code",
   "execution_count": 424,
   "metadata": {},
   "outputs": [
    {
     "data": {
      "text/plain": [
       "iPhone     34582\n",
       "Android    15022\n",
       "-1           396\n",
       "Name: phone, dtype: int64"
      ]
     },
     "execution_count": 424,
     "metadata": {},
     "output_type": "execute_result"
    }
   ],
   "source": [
    "ultimate.phone.value_counts()"
   ]
  },
  {
   "cell_type": "code",
   "execution_count": 488,
   "metadata": {},
   "outputs": [
    {
     "data": {
      "text/plain": [
       "0      15390\n",
       "1      14108\n",
       "2       7402\n",
       "3       3788\n",
       "4       2562\n",
       "5       1616\n",
       "6       1134\n",
       "7        819\n",
       "8        589\n",
       "9        471\n",
       "10       349\n",
       "11       301\n",
       "12       221\n",
       "13       168\n",
       "15       155\n",
       "14       147\n",
       "17       113\n",
       "16       108\n",
       "18        80\n",
       "19        69\n",
       "20        51\n",
       "23        45\n",
       "21        40\n",
       "22        34\n",
       "24        33\n",
       "27        28\n",
       "28        21\n",
       "25        20\n",
       "26        19\n",
       "30        15\n",
       "34        11\n",
       "29         9\n",
       "33         9\n",
       "37         9\n",
       "32         8\n",
       "31         6\n",
       "44         5\n",
       "40         5\n",
       "38         4\n",
       "43         4\n",
       "47         3\n",
       "42         3\n",
       "36         3\n",
       "39         3\n",
       "53         2\n",
       "55         2\n",
       "56         2\n",
       "54         2\n",
       "48         2\n",
       "49         2\n",
       "35         2\n",
       "125        1\n",
       "73         1\n",
       "58         1\n",
       "71         1\n",
       "41         1\n",
       "50         1\n",
       "51         1\n",
       "63         1\n",
       "Name: trips_in_first_30_days, dtype: int64"
      ]
     },
     "execution_count": 488,
     "metadata": {},
     "output_type": "execute_result"
    }
   ],
   "source": [
    "ultimate.trips_in_first_30_days.value_counts()"
   ]
  },
  {
   "cell_type": "code",
   "execution_count": 425,
   "metadata": {},
   "outputs": [
    {
     "name": "stdout",
     "output_type": "stream",
     "text": [
      "total ratings by driver: 49799\n"
     ]
    },
    {
     "data": {
      "text/plain": [
       "5.0    28508\n",
       "4.8     4537\n",
       "4.7     3330\n",
       "4.9     3094\n",
       "4.5     2424\n",
       "4.6     2078\n",
       "4.0     1914\n",
       "4.3     1018\n",
       "4.4      860\n",
       "3.0      602\n",
       "4.2      342\n",
       "3.5      199\n",
       "3.7      195\n",
       "1.0      181\n",
       "2.0      126\n",
       "4.1      125\n",
       "3.8      111\n",
       "3.3       47\n",
       "3.9       41\n",
       "2.5       31\n",
       "3.6       19\n",
       "3.4        5\n",
       "1.5        4\n",
       "2.8        3\n",
       "3.2        2\n",
       "2.7        2\n",
       "2.3        1\n",
       "Name: avg_rating_by_driver, dtype: int64"
      ]
     },
     "execution_count": 425,
     "metadata": {},
     "output_type": "execute_result"
    }
   ],
   "source": [
    "print('total ratings by driver:',ultimate['avg_rating_by_driver'].value_counts().sum())\n",
    "ultimate['avg_rating_by_driver'].value_counts()"
   ]
  },
  {
   "cell_type": "code",
   "execution_count": 426,
   "metadata": {},
   "outputs": [],
   "source": [
    "ultimate['avg_rating_by_driver'].fillna(ultimate['avg_rating_by_driver'].mean(), inplace=True)\n",
    "ultimate['avg_rating_of_driver'].fillna(ultimate['avg_rating_of_driver'].mean(), inplace=True)"
   ]
  },
  {
   "cell_type": "code",
   "execution_count": 427,
   "metadata": {},
   "outputs": [
    {
     "name": "stdout",
     "output_type": "stream",
     "text": [
      "<class 'pandas.core.frame.DataFrame'>\n",
      "RangeIndex: 50000 entries, 0 to 49999\n",
      "Data columns (total 12 columns):\n",
      "avg_dist                  50000 non-null float64\n",
      "avg_rating_by_driver      50000 non-null float64\n",
      "avg_rating_of_driver      50000 non-null float64\n",
      "avg_surge                 50000 non-null float64\n",
      "city                      50000 non-null object\n",
      "last_trip_date            50000 non-null object\n",
      "phone                     50000 non-null object\n",
      "signup_date               50000 non-null object\n",
      "surge_pct                 50000 non-null float64\n",
      "trips_in_first_30_days    50000 non-null int64\n",
      "ultimate_black_user       50000 non-null bool\n",
      "weekday_pct               50000 non-null float64\n",
      "dtypes: bool(1), float64(6), int64(1), object(4)\n",
      "memory usage: 4.2+ MB\n"
     ]
    }
   ],
   "source": [
    "ultimate.info()"
   ]
  },
  {
   "cell_type": "code",
   "execution_count": 415,
   "metadata": {},
   "outputs": [
    {
     "data": {
      "image/png": "[encoded data removed]",
      "text/plain": [
       "<matplotlib.figure.Figure at 0x1a2788af98>"
      ]
     },
     "metadata": {},
     "output_type": "display_data"
    },
    {
     "name": "stdout",
     "output_type": "stream",
     "text": [
      "mean average: 5.7968\n",
      "median average: 3.8800\n",
      "max average: 160.96\n",
      "min average: 0.0\n"
     ]
    }
   ],
   "source": [
    "# average distribution.  \n",
    "import matplotlib.pyplot as plt\n",
    "import seaborn as sns\n",
    "\n",
    "bins= np.arange(1,5.1,0.1)   # bins from 1 to 5, increments of 0.1\n",
    "_= plt.figure(figsize=(20,5))\n",
    "_= plt.hist(ultimate['avg_dist'], bins=bins, edgecolor=\"k\") #\n",
    "_= plt.xticks(bins, rotation='vertical',size=17)\n",
    "_= plt.yticks(size=17)\n",
    "_= plt.title('AVG DIST', size=20)\n",
    "_= plt.xlabel('avg_dist', size=20)\n",
    "_= plt.ylabel('count', size=20)\n",
    "plt.show()\n",
    "\n",
    "print('mean average: {:.4f}'.format(ultimate['avg_dist'].mean()))\n",
    "print('median average: {:.4f}'.format(ultimate['avg_dist'].median()))\n",
    "print('max average:', ultimate['avg_dist'].max())\n",
    "print('min average:', ultimate['avg_dist'].min())"
   ]
  },
  {
   "cell_type": "code",
   "execution_count": 368,
   "metadata": {},
   "outputs": [
    {
     "data": {
      "text/html": [
       "<div>\n",
       "<style scoped>\n",
       "    .dataframe tbody tr th:only-of-type {\n",
       "        vertical-align: middle;\n",
       "    }\n",
       "\n",
       "    .dataframe tbody tr th {\n",
       "        vertical-align: top;\n",
       "    }\n",
       "\n",
       "    .dataframe thead th {\n",
       "        text-align: right;\n",
       "    }\n",
       "</style>\n",
       "<table border=\"1\" class=\"dataframe\">\n",
       "  <thead>\n",
       "    <tr style=\"text-align: right;\">\n",
       "      <th></th>\n",
       "      <th>avg_dist</th>\n",
       "      <th>avg_rating_by_driver</th>\n",
       "      <th>avg_rating_of_driver</th>\n",
       "      <th>avg_surge</th>\n",
       "      <th>city</th>\n",
       "      <th>last_trip_date</th>\n",
       "      <th>phone</th>\n",
       "      <th>signup_date</th>\n",
       "      <th>surge_pct</th>\n",
       "      <th>trips_in_first_30_days</th>\n",
       "      <th>ultimate_black_user</th>\n",
       "      <th>weekday_pct</th>\n",
       "    </tr>\n",
       "  </thead>\n",
       "  <tbody>\n",
       "    <tr>\n",
       "      <th>20701</th>\n",
       "      <td>160.96</td>\n",
       "      <td>4.778158</td>\n",
       "      <td>4.601559</td>\n",
       "      <td>1.0</td>\n",
       "      <td>Astapor</td>\n",
       "      <td>2014-06-26</td>\n",
       "      <td>Android</td>\n",
       "      <td>2014-01-25</td>\n",
       "      <td>0.0</td>\n",
       "      <td>0</td>\n",
       "      <td>False</td>\n",
       "      <td>100.0</td>\n",
       "    </tr>\n",
       "    <tr>\n",
       "      <th>534</th>\n",
       "      <td>129.89</td>\n",
       "      <td>5.000000</td>\n",
       "      <td>4.601559</td>\n",
       "      <td>1.0</td>\n",
       "      <td>King's Landing</td>\n",
       "      <td>2014-03-09</td>\n",
       "      <td>-1</td>\n",
       "      <td>2014-01-04</td>\n",
       "      <td>0.0</td>\n",
       "      <td>0</td>\n",
       "      <td>False</td>\n",
       "      <td>0.0</td>\n",
       "    </tr>\n",
       "    <tr>\n",
       "      <th>1302</th>\n",
       "      <td>79.69</td>\n",
       "      <td>5.000000</td>\n",
       "      <td>5.000000</td>\n",
       "      <td>1.0</td>\n",
       "      <td>Winterfell</td>\n",
       "      <td>2014-01-30</td>\n",
       "      <td>iPhone</td>\n",
       "      <td>2014-01-30</td>\n",
       "      <td>0.0</td>\n",
       "      <td>1</td>\n",
       "      <td>False</td>\n",
       "      <td>100.0</td>\n",
       "    </tr>\n",
       "    <tr>\n",
       "      <th>22290</th>\n",
       "      <td>79.34</td>\n",
       "      <td>5.000000</td>\n",
       "      <td>5.000000</td>\n",
       "      <td>1.0</td>\n",
       "      <td>Astapor</td>\n",
       "      <td>2014-06-26</td>\n",
       "      <td>iPhone</td>\n",
       "      <td>2014-01-12</td>\n",
       "      <td>0.0</td>\n",
       "      <td>0</td>\n",
       "      <td>True</td>\n",
       "      <td>100.0</td>\n",
       "    </tr>\n",
       "    <tr>\n",
       "      <th>47595</th>\n",
       "      <td>77.13</td>\n",
       "      <td>5.000000</td>\n",
       "      <td>5.000000</td>\n",
       "      <td>1.0</td>\n",
       "      <td>King's Landing</td>\n",
       "      <td>2014-06-09</td>\n",
       "      <td>iPhone</td>\n",
       "      <td>2014-01-25</td>\n",
       "      <td>0.0</td>\n",
       "      <td>0</td>\n",
       "      <td>True</td>\n",
       "      <td>0.0</td>\n",
       "    </tr>\n",
       "    <tr>\n",
       "      <th>36625</th>\n",
       "      <td>73.88</td>\n",
       "      <td>3.000000</td>\n",
       "      <td>5.000000</td>\n",
       "      <td>1.0</td>\n",
       "      <td>Astapor</td>\n",
       "      <td>2014-01-22</td>\n",
       "      <td>iPhone</td>\n",
       "      <td>2014-01-19</td>\n",
       "      <td>0.0</td>\n",
       "      <td>2</td>\n",
       "      <td>False</td>\n",
       "      <td>100.0</td>\n",
       "    </tr>\n",
       "    <tr>\n",
       "      <th>22096</th>\n",
       "      <td>72.20</td>\n",
       "      <td>5.000000</td>\n",
       "      <td>4.601559</td>\n",
       "      <td>1.0</td>\n",
       "      <td>Astapor</td>\n",
       "      <td>2014-05-01</td>\n",
       "      <td>iPhone</td>\n",
       "      <td>2014-01-17</td>\n",
       "      <td>0.0</td>\n",
       "      <td>0</td>\n",
       "      <td>True</td>\n",
       "      <td>100.0</td>\n",
       "    </tr>\n",
       "    <tr>\n",
       "      <th>1493</th>\n",
       "      <td>72.08</td>\n",
       "      <td>5.000000</td>\n",
       "      <td>5.000000</td>\n",
       "      <td>1.0</td>\n",
       "      <td>Astapor</td>\n",
       "      <td>2014-01-27</td>\n",
       "      <td>iPhone</td>\n",
       "      <td>2014-01-26</td>\n",
       "      <td>0.0</td>\n",
       "      <td>1</td>\n",
       "      <td>False</td>\n",
       "      <td>100.0</td>\n",
       "    </tr>\n",
       "    <tr>\n",
       "      <th>19197</th>\n",
       "      <td>71.38</td>\n",
       "      <td>5.000000</td>\n",
       "      <td>4.700000</td>\n",
       "      <td>1.0</td>\n",
       "      <td>Astapor</td>\n",
       "      <td>2014-05-14</td>\n",
       "      <td>iPhone</td>\n",
       "      <td>2014-01-17</td>\n",
       "      <td>0.0</td>\n",
       "      <td>2</td>\n",
       "      <td>True</td>\n",
       "      <td>100.0</td>\n",
       "    </tr>\n",
       "    <tr>\n",
       "      <th>42835</th>\n",
       "      <td>70.48</td>\n",
       "      <td>5.000000</td>\n",
       "      <td>5.000000</td>\n",
       "      <td>1.0</td>\n",
       "      <td>Winterfell</td>\n",
       "      <td>2014-06-28</td>\n",
       "      <td>Android</td>\n",
       "      <td>2014-01-10</td>\n",
       "      <td>0.0</td>\n",
       "      <td>0</td>\n",
       "      <td>False</td>\n",
       "      <td>100.0</td>\n",
       "    </tr>\n",
       "  </tbody>\n",
       "</table>\n",
       "</div>"
      ],
      "text/plain": [
       "       avg_dist  avg_rating_by_driver  avg_rating_of_driver  avg_surge  \\\n",
       "20701    160.96              4.778158              4.601559        1.0   \n",
       "534      129.89              5.000000              4.601559        1.0   \n",
       "1302      79.69              5.000000              5.000000        1.0   \n",
       "22290     79.34              5.000000              5.000000        1.0   \n",
       "47595     77.13              5.000000              5.000000        1.0   \n",
       "36625     73.88              3.000000              5.000000        1.0   \n",
       "22096     72.20              5.000000              4.601559        1.0   \n",
       "1493      72.08              5.000000              5.000000        1.0   \n",
       "19197     71.38              5.000000              4.700000        1.0   \n",
       "42835     70.48              5.000000              5.000000        1.0   \n",
       "\n",
       "                 city last_trip_date    phone signup_date  surge_pct  \\\n",
       "20701         Astapor     2014-06-26  Android  2014-01-25        0.0   \n",
       "534    King's Landing     2014-03-09       -1  2014-01-04        0.0   \n",
       "1302       Winterfell     2014-01-30   iPhone  2014-01-30        0.0   \n",
       "22290         Astapor     2014-06-26   iPhone  2014-01-12        0.0   \n",
       "47595  King's Landing     2014-06-09   iPhone  2014-01-25        0.0   \n",
       "36625         Astapor     2014-01-22   iPhone  2014-01-19        0.0   \n",
       "22096         Astapor     2014-05-01   iPhone  2014-01-17        0.0   \n",
       "1493          Astapor     2014-01-27   iPhone  2014-01-26        0.0   \n",
       "19197         Astapor     2014-05-14   iPhone  2014-01-17        0.0   \n",
       "42835      Winterfell     2014-06-28  Android  2014-01-10        0.0   \n",
       "\n",
       "       trips_in_first_30_days  ultimate_black_user  weekday_pct  \n",
       "20701                       0                False        100.0  \n",
       "534                         0                False          0.0  \n",
       "1302                        1                False        100.0  \n",
       "22290                       0                 True        100.0  \n",
       "47595                       0                 True          0.0  \n",
       "36625                       2                False        100.0  \n",
       "22096                       0                 True        100.0  \n",
       "1493                        1                False        100.0  \n",
       "19197                       2                 True        100.0  \n",
       "42835                       0                False        100.0  "
      ]
     },
     "execution_count": 368,
     "metadata": {},
     "output_type": "execute_result"
    }
   ],
   "source": [
    "# a few  mean averages are very large!  Let's examine: \n",
    "ultimate.sort_values(by='avg_dist', ascending=False).head(10)"
   ]
  },
  {
   "cell_type": "code",
   "execution_count": 456,
   "metadata": {},
   "outputs": [
    {
     "name": "stdout",
     "output_type": "stream",
     "text": [
      "   index  avg_dist\n",
      "0   0.00       150\n",
      "1   2.30       116\n",
      "2   2.29       116\n",
      "3   2.70       114\n",
      "4   2.36       114\n",
      "5   2.73       114\n",
      "6   2.65       113\n",
      "7   2.50       113\n",
      "8   2.83       110\n",
      "9   2.54       110\n"
     ]
    }
   ],
   "source": [
    "values = ultimate.avg_dist.value_counts().reset_index()\n",
    "print(values[:10])"
   ]
  },
  {
   "cell_type": "markdown",
   "metadata": {},
   "source": [
    "I'm unsure what to make of these high ratings.  It's possible they are not in error.  Without more information, I'll have to leave them as they are."
   ]
  },
  {
   "cell_type": "code",
   "execution_count": 370,
   "metadata": {},
   "outputs": [
    {
     "data": {
      "image/png": "[encoded data removed]",
      "text/plain": [
       "<matplotlib.figure.Figure at 0x1a2819c518>"
      ]
     },
     "metadata": {},
     "output_type": "display_data"
    },
    {
     "name": "stdout",
     "output_type": "stream",
     "text": [
      "mean average rating: 4.7782\n",
      "max average rating: 5.0\n",
      "min average rating: 1.0\n"
     ]
    }
   ],
   "source": [
    "# average rating by driver.  \n",
    "import matplotlib.pyplot as plt\n",
    "\n",
    "bins= np.arange(1,5.1,0.1)   # bins from 1 to 5, increments of 0.1\n",
    "_= plt.figure(figsize=(20,5))\n",
    "_= plt.hist(ultimate['avg_rating_by_driver'], bins=bins, edgecolor=\"k\") #\n",
    "_= plt.xticks(bins, rotation='vertical',size=17)\n",
    "_= plt.yticks(size=17)\n",
    "_= plt.title('AVG RATING BY DRIVER', size=20)\n",
    "_= plt.xlabel('avg_rating_by_driver', size=20)\n",
    "_= plt.ylabel('count', size=20)\n",
    "plt.show()\n",
    "\n",
    "print('mean average rating: {:.4f}'.format(ultimate['avg_rating_by_driver'].mean()))\n",
    "print('max average rating:', ultimate['avg_rating_by_driver'].max())\n",
    "print('min average rating:', ultimate['avg_rating_by_driver'].min())"
   ]
  },
  {
   "cell_type": "code",
   "execution_count": 371,
   "metadata": {},
   "outputs": [
    {
     "data": {
      "image/png": "[encoded data removed]",
      "text/plain": [
       "<matplotlib.figure.Figure at 0x1a25637c88>"
      ]
     },
     "metadata": {},
     "output_type": "display_data"
    },
    {
     "name": "stdout",
     "output_type": "stream",
     "text": [
      "mean average rating: 4.6016\n",
      "max average rating: 5.0\n",
      "min average rating: 1.0\n"
     ]
    }
   ],
   "source": [
    "# average rating of driver.  \n",
    "import matplotlib.pyplot as plt\n",
    "\n",
    "bins= np.arange(1,5.1,0.1)   # bins from 1 to 5, increments of 0.1\n",
    "_= plt.figure(figsize=(20,5))\n",
    "_= plt.hist(ultimate['avg_rating_of_driver'], bins=bins, edgecolor=\"k\") #\n",
    "_= plt.xticks(bins, rotation='vertical',size=17)\n",
    "_= plt.yticks(size=17)\n",
    "_= plt.title('AVG RATING OF DRIVER', size=20)\n",
    "_= plt.xlabel('avg_rating_of_driver', size=20)\n",
    "_= plt.ylabel('count', size=20)\n",
    "plt.show()\n",
    "\n",
    "print('mean average rating: {:.4f}'.format(ultimate['avg_rating_of_driver'].mean()))\n",
    "print('max average rating:', ultimate['avg_rating_of_driver'].max())\n",
    "print('min average rating:', ultimate['avg_rating_of_driver'].min())"
   ]
  },
  {
   "cell_type": "code",
   "execution_count": 372,
   "metadata": {},
   "outputs": [
    {
     "data": {
      "image/png": "[encoded data removed]",
      "text/plain": [
       "<matplotlib.figure.Figure at 0x1a27b755c0>"
      ]
     },
     "metadata": {},
     "output_type": "display_data"
    },
    {
     "name": "stdout",
     "output_type": "stream",
     "text": [
      "mean average surge: 1.0748\n",
      "max average surge: 8.0\n",
      "min average surge: 1.0\n"
     ]
    }
   ],
   "source": [
    "# average avg_surge.  \n",
    "import matplotlib.pyplot as plt\n",
    "\n",
    "_= plt.figure(figsize=(20,5))\n",
    "_= plt.hist(ultimate['avg_surge'], bins=bins, edgecolor=\"k\") #\n",
    "_= plt.xticks(rotation='vertical',size=17)\n",
    "_= plt.yticks(size=17)\n",
    "_= plt.title('AVG SURGE', size=20)\n",
    "_= plt.xlabel('avg_surge', size=20)\n",
    "_= plt.ylabel('count', size=20)\n",
    "plt.show()\n",
    "\n",
    "print('mean average surge: {:.4f}'.format(ultimate['avg_surge'].mean()))\n",
    "print('max average surge:', ultimate['avg_surge'].max())\n",
    "print('min average surge:', ultimate['avg_surge'].min())"
   ]
  },
  {
   "cell_type": "code",
   "execution_count": 499,
   "metadata": {},
   "outputs": [
    {
     "data": {
      "image/png": "[encoded data removed]",
      "text/plain": [
       "<matplotlib.figure.Figure at 0x1a354186d8>"
      ]
     },
     "metadata": {},
     "output_type": "display_data"
    },
    {
     "name": "stdout",
     "output_type": "stream",
     "text": [
      "mean surge_pct: 8.8495\n",
      "max surge_pct: 100.0\n",
      "min surge_pct: 0.0\n"
     ]
    }
   ],
   "source": [
    "# surge pct.  \n",
    "import matplotlib.pyplot as plt\n",
    "\n",
    "_= plt.figure(figsize=(20,5))\n",
    "_= plt.hist(ultimate['surge_pct'], bins=bins, edgecolor=\"k\") #\n",
    "_= plt.xticks(rotation='vertical',size=17)\n",
    "_= plt.yticks(size=17)\n",
    "_= plt.title('SURGE PCT', size=20)\n",
    "_= plt.xlabel('surge_pct', size=20)\n",
    "_= plt.ylabel('count', size=20)\n",
    "plt.show()\n",
    "\n",
    "print('mean surge_pct: {:.4f}'.format(ultimate['surge_pct'].mean()))\n",
    "print('max surge_pct:', ultimate['surge_pct'].max())\n",
    "print('min surge_pct:', ultimate['surge_pct'].min())"
   ]
  },
  {
   "cell_type": "code",
   "execution_count": 373,
   "metadata": {},
   "outputs": [
    {
     "name": "stdout",
     "output_type": "stream",
     "text": [
      "Winterfell        23336\n",
      "Astapor           16534\n",
      "King's Landing    10130\n",
      "Name: city, dtype: int64\n"
     ]
    }
   ],
   "source": [
    "print(ultimate.city.value_counts())"
   ]
  },
  {
   "cell_type": "markdown",
   "metadata": {},
   "source": [
    "## Last trip date  \n",
    "### use this as the target: if a user took a trip in last 30 days, they are considered still active"
   ]
  },
  {
   "cell_type": "code",
   "execution_count": 374,
   "metadata": {},
   "outputs": [
    {
     "data": {
      "text/html": [
       "<div>\n",
       "<style scoped>\n",
       "    .dataframe tbody tr th:only-of-type {\n",
       "        vertical-align: middle;\n",
       "    }\n",
       "\n",
       "    .dataframe tbody tr th {\n",
       "        vertical-align: top;\n",
       "    }\n",
       "\n",
       "    .dataframe thead th {\n",
       "        text-align: right;\n",
       "    }\n",
       "</style>\n",
       "<table border=\"1\" class=\"dataframe\">\n",
       "  <thead>\n",
       "    <tr style=\"text-align: right;\">\n",
       "      <th></th>\n",
       "      <th>last_trip_date</th>\n",
       "      <th>signup_date</th>\n",
       "    </tr>\n",
       "  </thead>\n",
       "  <tbody>\n",
       "    <tr>\n",
       "      <th>count</th>\n",
       "      <td>50000</td>\n",
       "      <td>50000</td>\n",
       "    </tr>\n",
       "    <tr>\n",
       "      <th>unique</th>\n",
       "      <td>182</td>\n",
       "      <td>31</td>\n",
       "    </tr>\n",
       "    <tr>\n",
       "      <th>top</th>\n",
       "      <td>2014-06-29</td>\n",
       "      <td>2014-01-18</td>\n",
       "    </tr>\n",
       "    <tr>\n",
       "      <th>freq</th>\n",
       "      <td>2036</td>\n",
       "      <td>2948</td>\n",
       "    </tr>\n",
       "  </tbody>\n",
       "</table>\n",
       "</div>"
      ],
      "text/plain": [
       "       last_trip_date signup_date\n",
       "count           50000       50000\n",
       "unique            182          31\n",
       "top        2014-06-29  2014-01-18\n",
       "freq             2036        2948"
      ]
     },
     "execution_count": 374,
     "metadata": {},
     "output_type": "execute_result"
    }
   ],
   "source": [
    "ultimate[['last_trip_date','signup_date']].describe()"
   ]
  },
  {
   "cell_type": "code",
   "execution_count": 428,
   "metadata": {},
   "outputs": [
    {
     "name": "stdout",
     "output_type": "stream",
     "text": [
      "2014-01-01\n",
      "2014-07-01\n"
     ]
    }
   ],
   "source": [
    "print(min(ultimate.last_trip_date))\n",
    "print(max(ultimate.last_trip_date))"
   ]
  },
  {
   "cell_type": "markdown",
   "metadata": {},
   "source": [
    "The last date on record is 2014-07-01.  I'll consider the user active if last_trip_date is after 2014-06-02, 30 days on or before 2014-07-01"
   ]
  },
  {
   "cell_type": "code",
   "execution_count": 376,
   "metadata": {},
   "outputs": [
    {
     "data": {
      "image/png": "[encoded data removed]",
      "text/plain": [
       "<matplotlib.figure.Figure at 0x1a24884908>"
      ]
     },
     "metadata": {},
     "output_type": "display_data"
    }
   ],
   "source": [
    "# plot the last trip data\n",
    "_= ultimate.last_trip_date.hist(bins=182, figsize=(20,8))\n",
    "_= plt.title('LAST TRIP TAKEN', size=20)\n",
    "_= plt.xlabel('Date', size=20)\n",
    "_= plt.ylabel('Count', size=20)\n",
    "_= plt.xticks( rotation=80, size=8)\n",
    "plt.show()"
   ]
  },
  {
   "cell_type": "code",
   "execution_count": 377,
   "metadata": {},
   "outputs": [
    {
     "name": "stdout",
     "output_type": "stream",
     "text": [
      "Number active is 0.36%\n"
     ]
    }
   ],
   "source": [
    "# add an active column, showing 1 if active within last 30 days, else 0.\n",
    "ultimate['active'] = 0\n",
    "ultimate.loc[ultimate.last_trip_date > '2014-06-02', 'active' ] = 1\n",
    "\n",
    "active_pct = sum(ultimate.active)/len(ultimate)\n",
    "print('Number active is {:0.2f}%'.format(active_pct))"
   ]
  },
  {
   "cell_type": "markdown",
   "metadata": {},
   "source": [
    "try to see a visual correlation for predicting active.\n",
    "Start with phone, because that's unlikely to be a good predictor (but you never know..)\n",
    "It may give a good baseline.  \n",
    "0 represents non-active, 1 represents active.  \n",
    "Remember, active users are 36%, so 0 should be nearly twice as large as 1.  \n",
    "Looks like I was wrong: Android phone negatively correlates with retention, and iPhone positive.  "
   ]
  },
  {
   "cell_type": "code",
   "execution_count": 378,
   "metadata": {},
   "outputs": [
    {
     "data": {
      "image/png": "[encoded data removed]",
      "text/plain": [
       "<matplotlib.figure.Figure at 0x1a2d950780>"
      ]
     },
     "metadata": {},
     "output_type": "display_data"
    }
   ],
   "source": [
    "_= ultimate.phone.hist(by=ultimate.active, bins=25)\n",
    "_= plt.xlabel('PHONE TYPE', size=15)\n",
    "plt.show()"
   ]
  },
  {
   "cell_type": "code",
   "execution_count": 379,
   "metadata": {},
   "outputs": [
    {
     "data": {
      "image/png": "[encoded data removed]",
      "text/plain": [
       "<matplotlib.figure.Figure at 0x1a2aca9cc0>"
      ]
     },
     "metadata": {},
     "output_type": "display_data"
    }
   ],
   "source": [
    "_= ultimate.avg_dist.hist(by=ultimate.active, bins=25)\n",
    "_= plt.xlabel('AVERAGE DISTANCE', size=15)\n",
    "plt.show()"
   ]
  },
  {
   "cell_type": "markdown",
   "metadata": {},
   "source": [
    "some correlation for avg distance"
   ]
  },
  {
   "cell_type": "code",
   "execution_count": 380,
   "metadata": {},
   "outputs": [
    {
     "data": {
      "image/png": "[encoded data removed]",
      "text/plain": [
       "<matplotlib.figure.Figure at 0x1a2bee1860>"
      ]
     },
     "metadata": {},
     "output_type": "display_data"
    }
   ],
   "source": [
    "_= ultimate.avg_rating_by_driver.hist(by=ultimate.active, bins=25)\n",
    "_= plt.xlabel('AVERAGE RATING BY DRIVER', size=15)\n",
    "plt.show()"
   ]
  },
  {
   "cell_type": "markdown",
   "metadata": {},
   "source": [
    "Better ratings negatively correlate with retention!"
   ]
  },
  {
   "cell_type": "code",
   "execution_count": 381,
   "metadata": {},
   "outputs": [
    {
     "data": {
      "image/png": "[encoded data removed]",
      "text/plain": [
       "<matplotlib.figure.Figure at 0x1a26cd5d30>"
      ]
     },
     "metadata": {},
     "output_type": "display_data"
    }
   ],
   "source": [
    "_= ultimate.avg_rating_of_driver.hist(by=ultimate.active, bins=25)\n",
    "_= plt.xlabel('AVERAGE RATING OF DRIVER', size=15)\n",
    "plt.show()"
   ]
  },
  {
   "cell_type": "markdown",
   "metadata": {},
   "source": [
    "no correlation"
   ]
  },
  {
   "cell_type": "code",
   "execution_count": 382,
   "metadata": {},
   "outputs": [
    {
     "data": {
      "image/png": "[encoded data removed]",
      "text/plain": [
       "<matplotlib.figure.Figure at 0x1a2e5a82b0>"
      ]
     },
     "metadata": {},
     "output_type": "display_data"
    }
   ],
   "source": [
    "_= ultimate.avg_surge.hist(by=ultimate.active, bins=25)\n",
    "_= plt.xlabel('AVERAGE SURGE', size=15)\n",
    "plt.show()"
   ]
  },
  {
   "cell_type": "markdown",
   "metadata": {},
   "source": [
    "Surge shows good correlation"
   ]
  },
  {
   "cell_type": "code",
   "execution_count": 383,
   "metadata": {},
   "outputs": [
    {
     "data": {
      "image/png": "[encoded data removed]",
      "text/plain": [
       "<matplotlib.figure.Figure at 0x1a26daf6d8>"
      ]
     },
     "metadata": {},
     "output_type": "display_data"
    }
   ],
   "source": [
    "_= ultimate.city.hist(by=ultimate.active, bins=25)\n",
    "_= plt.xlabel('CITY', size=15)\n",
    "plt.show()"
   ]
  },
  {
   "cell_type": "markdown",
   "metadata": {},
   "source": [
    "King's Landing city correlates better than the other two cities"
   ]
  },
  {
   "cell_type": "code",
   "execution_count": 384,
   "metadata": {},
   "outputs": [
    {
     "data": {
      "image/png": "[encoded data removed]",
      "text/plain": [
       "<matplotlib.figure.Figure at 0x1a2ad79c50>"
      ]
     },
     "metadata": {},
     "output_type": "display_data"
    }
   ],
   "source": [
    "_= ultimate.signup_date.hist(by=ultimate.active, bins=25)\n",
    "_= plt.xlabel('SIGNUP DATE', size=15)\n",
    "plt.show()"
   ]
  },
  {
   "cell_type": "code",
   "execution_count": 385,
   "metadata": {},
   "outputs": [
    {
     "data": {
      "image/png": "[encoded data removed]",
      "text/plain": [
       "<matplotlib.figure.Figure at 0x1a2d930390>"
      ]
     },
     "metadata": {},
     "output_type": "display_data"
    }
   ],
   "source": [
    "_= ultimate.surge_pct.hist(by=ultimate.active, bins=25)\n",
    "_= plt.xlabel('SURGE PCT', size=15)\n",
    "plt.show()"
   ]
  },
  {
   "cell_type": "markdown",
   "metadata": {},
   "source": [
    "Like SURGE, SURGE PCT correlates.  Higher percents are better."
   ]
  },
  {
   "cell_type": "code",
   "execution_count": 386,
   "metadata": {},
   "outputs": [
    {
     "data": {
      "image/png": "[encoded data removed]",
      "text/plain": [
       "<matplotlib.figure.Figure at 0x1a2c597668>"
      ]
     },
     "metadata": {},
     "output_type": "display_data"
    }
   ],
   "source": [
    "_= ultimate.trips_in_first_30_days.hist(by=ultimate.active, bins=25)\n",
    "_= plt.xlabel('NUM TRIPS IN FIRST 30 DAYS', size=15)\n",
    "plt.show()"
   ]
  },
  {
   "cell_type": "markdown",
   "metadata": {},
   "source": [
    "Num trips in first 30 days appears to predict well, too.  Good correlation"
   ]
  },
  {
   "cell_type": "code",
   "execution_count": 387,
   "metadata": {},
   "outputs": [
    {
     "data": {
      "image/png": "[encoded data removed]",
      "text/plain": [
       "<matplotlib.figure.Figure at 0x1a2cfd3080>"
      ]
     },
     "metadata": {},
     "output_type": "display_data"
    }
   ],
   "source": [
    "_= ultimate.ultimate_black_user.hist(by=ultimate.active, bins=25)\n",
    "_= plt.xlabel('BLACK (not race, but a designation) USER', size=15)\n",
    "plt.show()"
   ]
  },
  {
   "cell_type": "markdown",
   "metadata": {},
   "source": [
    "Black users are more likely to be retained.  Good correlation.  "
   ]
  },
  {
   "cell_type": "code",
   "execution_count": 388,
   "metadata": {},
   "outputs": [
    {
     "data": {
      "image/png": "[encoded data removed]",
      "text/plain": [
       "<matplotlib.figure.Figure at 0x1a2f7ec5f8>"
      ]
     },
     "metadata": {},
     "output_type": "display_data"
    }
   ],
   "source": [
    "_= ultimate.weekday_pct.hist(by=ultimate.active, bins=25)\n",
    "_= plt.xlabel('WEEKDAY PCT', size=15)\n",
    "plt.show()"
   ]
  },
  {
   "cell_type": "code",
   "execution_count": 495,
   "metadata": {},
   "outputs": [
    {
     "data": {
      "text/html": [
       "<div>\n",
       "<style scoped>\n",
       "    .dataframe tbody tr th:only-of-type {\n",
       "        vertical-align: middle;\n",
       "    }\n",
       "\n",
       "    .dataframe tbody tr th {\n",
       "        vertical-align: top;\n",
       "    }\n",
       "\n",
       "    .dataframe thead th {\n",
       "        text-align: right;\n",
       "    }\n",
       "</style>\n",
       "<table border=\"1\" class=\"dataframe\">\n",
       "  <thead>\n",
       "    <tr style=\"text-align: right;\">\n",
       "      <th></th>\n",
       "      <th>avg_dist</th>\n",
       "      <th>avg_rating_by_driver</th>\n",
       "      <th>avg_rating_of_driver</th>\n",
       "      <th>avg_surge</th>\n",
       "      <th>last_trip_date</th>\n",
       "      <th>signup_date</th>\n",
       "      <th>surge_pct</th>\n",
       "      <th>trips_in_first_30_days</th>\n",
       "      <th>ultimate_black_user</th>\n",
       "      <th>weekday_pct</th>\n",
       "      <th>active</th>\n",
       "      <th>city_Astapor</th>\n",
       "      <th>city_King's Landing</th>\n",
       "      <th>pho_Android</th>\n",
       "      <th>pho_iPhone</th>\n",
       "    </tr>\n",
       "  </thead>\n",
       "  <tbody>\n",
       "    <tr>\n",
       "      <th>avg_dist</th>\n",
       "      <td>1.000000</td>\n",
       "      <td>0.079793</td>\n",
       "      <td>0.028508</td>\n",
       "      <td>-0.081491</td>\n",
       "      <td>-0.106513</td>\n",
       "      <td>0.017274</td>\n",
       "      <td>-0.104414</td>\n",
       "      <td>-0.208653</td>\n",
       "      <td>0.032310</td>\n",
       "      <td>0.101652</td>\n",
       "      <td>-0.090471</td>\n",
       "      <td>-0.045431</td>\n",
       "      <td>0.015877</td>\n",
       "      <td>0.020888</td>\n",
       "      <td>-0.025030</td>\n",
       "    </tr>\n",
       "    <tr>\n",
       "      <th>avg_rating_by_driver</th>\n",
       "      <td>0.079793</td>\n",
       "      <td>1.000000</td>\n",
       "      <td>0.101660</td>\n",
       "      <td>0.010498</td>\n",
       "      <td>-0.032469</td>\n",
       "      <td>0.002197</td>\n",
       "      <td>0.019964</td>\n",
       "      <td>-0.049110</td>\n",
       "      <td>0.009328</td>\n",
       "      <td>0.020366</td>\n",
       "      <td>-0.026890</td>\n",
       "      <td>0.032518</td>\n",
       "      <td>0.084480</td>\n",
       "      <td>0.008765</td>\n",
       "      <td>-0.010127</td>\n",
       "    </tr>\n",
       "    <tr>\n",
       "      <th>avg_rating_of_driver</th>\n",
       "      <td>0.028508</td>\n",
       "      <td>0.101660</td>\n",
       "      <td>1.000000</td>\n",
       "      <td>-0.021653</td>\n",
       "      <td>-0.014811</td>\n",
       "      <td>0.005995</td>\n",
       "      <td>-0.003290</td>\n",
       "      <td>-0.011162</td>\n",
       "      <td>-0.001916</td>\n",
       "      <td>0.012587</td>\n",
       "      <td>-0.010801</td>\n",
       "      <td>0.029814</td>\n",
       "      <td>0.082156</td>\n",
       "      <td>0.024206</td>\n",
       "      <td>-0.024323</td>\n",
       "    </tr>\n",
       "    <tr>\n",
       "      <th>avg_surge</th>\n",
       "      <td>-0.081491</td>\n",
       "      <td>0.010498</td>\n",
       "      <td>-0.021653</td>\n",
       "      <td>1.000000</td>\n",
       "      <td>-0.018270</td>\n",
       "      <td>-0.006944</td>\n",
       "      <td>0.793582</td>\n",
       "      <td>-0.009030</td>\n",
       "      <td>-0.078791</td>\n",
       "      <td>-0.110071</td>\n",
       "      <td>-0.002936</td>\n",
       "      <td>0.037172</td>\n",
       "      <td>-0.009198</td>\n",
       "      <td>-0.008977</td>\n",
       "      <td>0.011104</td>\n",
       "    </tr>\n",
       "    <tr>\n",
       "      <th>last_trip_date</th>\n",
       "      <td>-0.106513</td>\n",
       "      <td>-0.032469</td>\n",
       "      <td>-0.014811</td>\n",
       "      <td>-0.018270</td>\n",
       "      <td>1.000000</td>\n",
       "      <td>0.015152</td>\n",
       "      <td>0.002589</td>\n",
       "      <td>0.389643</td>\n",
       "      <td>0.163050</td>\n",
       "      <td>0.020792</td>\n",
       "      <td>0.756736</td>\n",
       "      <td>-0.116512</td>\n",
       "      <td>0.196442</td>\n",
       "      <td>-0.181043</td>\n",
       "      <td>0.184426</td>\n",
       "    </tr>\n",
       "    <tr>\n",
       "      <th>signup_date</th>\n",
       "      <td>0.017274</td>\n",
       "      <td>0.002197</td>\n",
       "      <td>0.005995</td>\n",
       "      <td>-0.006944</td>\n",
       "      <td>0.015152</td>\n",
       "      <td>1.000000</td>\n",
       "      <td>0.001667</td>\n",
       "      <td>0.003858</td>\n",
       "      <td>-0.007398</td>\n",
       "      <td>0.007367</td>\n",
       "      <td>-0.020607</td>\n",
       "      <td>0.017547</td>\n",
       "      <td>0.025171</td>\n",
       "      <td>0.014516</td>\n",
       "      <td>-0.014738</td>\n",
       "    </tr>\n",
       "    <tr>\n",
       "      <th>surge_pct</th>\n",
       "      <td>-0.104414</td>\n",
       "      <td>0.019964</td>\n",
       "      <td>-0.003290</td>\n",
       "      <td>0.793582</td>\n",
       "      <td>0.002589</td>\n",
       "      <td>0.001667</td>\n",
       "      <td>1.000000</td>\n",
       "      <td>0.005459</td>\n",
       "      <td>-0.106861</td>\n",
       "      <td>-0.144918</td>\n",
       "      <td>0.011305</td>\n",
       "      <td>0.045457</td>\n",
       "      <td>0.028221</td>\n",
       "      <td>-0.010150</td>\n",
       "      <td>0.012851</td>\n",
       "    </tr>\n",
       "    <tr>\n",
       "      <th>trips_in_first_30_days</th>\n",
       "      <td>-0.208653</td>\n",
       "      <td>-0.049110</td>\n",
       "      <td>-0.011162</td>\n",
       "      <td>-0.009030</td>\n",
       "      <td>0.389643</td>\n",
       "      <td>0.003858</td>\n",
       "      <td>0.005459</td>\n",
       "      <td>1.000000</td>\n",
       "      <td>0.129133</td>\n",
       "      <td>0.068879</td>\n",
       "      <td>0.333005</td>\n",
       "      <td>-0.089325</td>\n",
       "      <td>0.069631</td>\n",
       "      <td>-0.096949</td>\n",
       "      <td>0.099110</td>\n",
       "    </tr>\n",
       "    <tr>\n",
       "      <th>ultimate_black_user</th>\n",
       "      <td>0.032310</td>\n",
       "      <td>0.009328</td>\n",
       "      <td>-0.001916</td>\n",
       "      <td>-0.078791</td>\n",
       "      <td>0.163050</td>\n",
       "      <td>-0.007398</td>\n",
       "      <td>-0.106861</td>\n",
       "      <td>0.129133</td>\n",
       "      <td>1.000000</td>\n",
       "      <td>0.035998</td>\n",
       "      <td>0.208406</td>\n",
       "      <td>0.021259</td>\n",
       "      <td>0.039649</td>\n",
       "      <td>-0.075836</td>\n",
       "      <td>0.067002</td>\n",
       "    </tr>\n",
       "    <tr>\n",
       "      <th>weekday_pct</th>\n",
       "      <td>0.101652</td>\n",
       "      <td>0.020366</td>\n",
       "      <td>0.012587</td>\n",
       "      <td>-0.110071</td>\n",
       "      <td>0.020792</td>\n",
       "      <td>0.007367</td>\n",
       "      <td>-0.144918</td>\n",
       "      <td>0.068879</td>\n",
       "      <td>0.035998</td>\n",
       "      <td>1.000000</td>\n",
       "      <td>0.026306</td>\n",
       "      <td>-0.010540</td>\n",
       "      <td>0.031349</td>\n",
       "      <td>-0.009241</td>\n",
       "      <td>0.006726</td>\n",
       "    </tr>\n",
       "    <tr>\n",
       "      <th>active</th>\n",
       "      <td>-0.090471</td>\n",
       "      <td>-0.026890</td>\n",
       "      <td>-0.010801</td>\n",
       "      <td>-0.002936</td>\n",
       "      <td>0.756736</td>\n",
       "      <td>-0.020607</td>\n",
       "      <td>0.011305</td>\n",
       "      <td>0.333005</td>\n",
       "      <td>0.208406</td>\n",
       "      <td>0.026306</td>\n",
       "      <td>1.000000</td>\n",
       "      <td>-0.177001</td>\n",
       "      <td>0.262419</td>\n",
       "      <td>-0.230074</td>\n",
       "      <td>0.229691</td>\n",
       "    </tr>\n",
       "    <tr>\n",
       "      <th>city_Astapor</th>\n",
       "      <td>-0.045431</td>\n",
       "      <td>0.032518</td>\n",
       "      <td>0.029814</td>\n",
       "      <td>0.037172</td>\n",
       "      <td>-0.116512</td>\n",
       "      <td>0.017547</td>\n",
       "      <td>0.045457</td>\n",
       "      <td>-0.089325</td>\n",
       "      <td>0.021259</td>\n",
       "      <td>-0.010540</td>\n",
       "      <td>-0.177001</td>\n",
       "      <td>1.000000</td>\n",
       "      <td>-0.354298</td>\n",
       "      <td>0.025642</td>\n",
       "      <td>-0.024539</td>\n",
       "    </tr>\n",
       "    <tr>\n",
       "      <th>city_King's Landing</th>\n",
       "      <td>0.015877</td>\n",
       "      <td>0.084480</td>\n",
       "      <td>0.082156</td>\n",
       "      <td>-0.009198</td>\n",
       "      <td>0.196442</td>\n",
       "      <td>0.025171</td>\n",
       "      <td>0.028221</td>\n",
       "      <td>0.069631</td>\n",
       "      <td>0.039649</td>\n",
       "      <td>0.031349</td>\n",
       "      <td>0.262419</td>\n",
       "      <td>-0.354298</td>\n",
       "      <td>1.000000</td>\n",
       "      <td>-0.059203</td>\n",
       "      <td>0.060520</td>\n",
       "    </tr>\n",
       "    <tr>\n",
       "      <th>pho_Android</th>\n",
       "      <td>0.020888</td>\n",
       "      <td>0.008765</td>\n",
       "      <td>0.024206</td>\n",
       "      <td>-0.008977</td>\n",
       "      <td>-0.181043</td>\n",
       "      <td>0.014516</td>\n",
       "      <td>-0.010150</td>\n",
       "      <td>-0.096949</td>\n",
       "      <td>-0.075836</td>\n",
       "      <td>-0.009241</td>\n",
       "      <td>-0.230074</td>\n",
       "      <td>0.025642</td>\n",
       "      <td>-0.059203</td>\n",
       "      <td>1.000000</td>\n",
       "      <td>-0.981471</td>\n",
       "    </tr>\n",
       "    <tr>\n",
       "      <th>pho_iPhone</th>\n",
       "      <td>-0.025030</td>\n",
       "      <td>-0.010127</td>\n",
       "      <td>-0.024323</td>\n",
       "      <td>0.011104</td>\n",
       "      <td>0.184426</td>\n",
       "      <td>-0.014738</td>\n",
       "      <td>0.012851</td>\n",
       "      <td>0.099110</td>\n",
       "      <td>0.067002</td>\n",
       "      <td>0.006726</td>\n",
       "      <td>0.229691</td>\n",
       "      <td>-0.024539</td>\n",
       "      <td>0.060520</td>\n",
       "      <td>-0.981471</td>\n",
       "      <td>1.000000</td>\n",
       "    </tr>\n",
       "  </tbody>\n",
       "</table>\n",
       "</div>"
      ],
      "text/plain": [
       "                        avg_dist  avg_rating_by_driver  avg_rating_of_driver  \\\n",
       "avg_dist                1.000000              0.079793              0.028508   \n",
       "avg_rating_by_driver    0.079793              1.000000              0.101660   \n",
       "avg_rating_of_driver    0.028508              0.101660              1.000000   \n",
       "avg_surge              -0.081491              0.010498             -0.021653   \n",
       "last_trip_date         -0.106513             -0.032469             -0.014811   \n",
       "signup_date             0.017274              0.002197              0.005995   \n",
       "surge_pct              -0.104414              0.019964             -0.003290   \n",
       "trips_in_first_30_days -0.208653             -0.049110             -0.011162   \n",
       "ultimate_black_user     0.032310              0.009328             -0.001916   \n",
       "weekday_pct             0.101652              0.020366              0.012587   \n",
       "active                 -0.090471             -0.026890             -0.010801   \n",
       "city_Astapor           -0.045431              0.032518              0.029814   \n",
       "city_King's Landing     0.015877              0.084480              0.082156   \n",
       "pho_Android             0.020888              0.008765              0.024206   \n",
       "pho_iPhone             -0.025030             -0.010127             -0.024323   \n",
       "\n",
       "                        avg_surge  last_trip_date  signup_date  surge_pct  \\\n",
       "avg_dist                -0.081491       -0.106513     0.017274  -0.104414   \n",
       "avg_rating_by_driver     0.010498       -0.032469     0.002197   0.019964   \n",
       "avg_rating_of_driver    -0.021653       -0.014811     0.005995  -0.003290   \n",
       "avg_surge                1.000000       -0.018270    -0.006944   0.793582   \n",
       "last_trip_date          -0.018270        1.000000     0.015152   0.002589   \n",
       "signup_date             -0.006944        0.015152     1.000000   0.001667   \n",
       "surge_pct                0.793582        0.002589     0.001667   1.000000   \n",
       "trips_in_first_30_days  -0.009030        0.389643     0.003858   0.005459   \n",
       "ultimate_black_user     -0.078791        0.163050    -0.007398  -0.106861   \n",
       "weekday_pct             -0.110071        0.020792     0.007367  -0.144918   \n",
       "active                  -0.002936        0.756736    -0.020607   0.011305   \n",
       "city_Astapor             0.037172       -0.116512     0.017547   0.045457   \n",
       "city_King's Landing     -0.009198        0.196442     0.025171   0.028221   \n",
       "pho_Android             -0.008977       -0.181043     0.014516  -0.010150   \n",
       "pho_iPhone               0.011104        0.184426    -0.014738   0.012851   \n",
       "\n",
       "                        trips_in_first_30_days  ultimate_black_user  \\\n",
       "avg_dist                             -0.208653             0.032310   \n",
       "avg_rating_by_driver                 -0.049110             0.009328   \n",
       "avg_rating_of_driver                 -0.011162            -0.001916   \n",
       "avg_surge                            -0.009030            -0.078791   \n",
       "last_trip_date                        0.389643             0.163050   \n",
       "signup_date                           0.003858            -0.007398   \n",
       "surge_pct                             0.005459            -0.106861   \n",
       "trips_in_first_30_days                1.000000             0.129133   \n",
       "ultimate_black_user                   0.129133             1.000000   \n",
       "weekday_pct                           0.068879             0.035998   \n",
       "active                                0.333005             0.208406   \n",
       "city_Astapor                         -0.089325             0.021259   \n",
       "city_King's Landing                   0.069631             0.039649   \n",
       "pho_Android                          -0.096949            -0.075836   \n",
       "pho_iPhone                            0.099110             0.067002   \n",
       "\n",
       "                        weekday_pct    active  city_Astapor  \\\n",
       "avg_dist                   0.101652 -0.090471     -0.045431   \n",
       "avg_rating_by_driver       0.020366 -0.026890      0.032518   \n",
       "avg_rating_of_driver       0.012587 -0.010801      0.029814   \n",
       "avg_surge                 -0.110071 -0.002936      0.037172   \n",
       "last_trip_date             0.020792  0.756736     -0.116512   \n",
       "signup_date                0.007367 -0.020607      0.017547   \n",
       "surge_pct                 -0.144918  0.011305      0.045457   \n",
       "trips_in_first_30_days     0.068879  0.333005     -0.089325   \n",
       "ultimate_black_user        0.035998  0.208406      0.021259   \n",
       "weekday_pct                1.000000  0.026306     -0.010540   \n",
       "active                     0.026306  1.000000     -0.177001   \n",
       "city_Astapor              -0.010540 -0.177001      1.000000   \n",
       "city_King's Landing        0.031349  0.262419     -0.354298   \n",
       "pho_Android               -0.009241 -0.230074      0.025642   \n",
       "pho_iPhone                 0.006726  0.229691     -0.024539   \n",
       "\n",
       "                        city_King's Landing  pho_Android  pho_iPhone  \n",
       "avg_dist                           0.015877     0.020888   -0.025030  \n",
       "avg_rating_by_driver               0.084480     0.008765   -0.010127  \n",
       "avg_rating_of_driver               0.082156     0.024206   -0.024323  \n",
       "avg_surge                         -0.009198    -0.008977    0.011104  \n",
       "last_trip_date                     0.196442    -0.181043    0.184426  \n",
       "signup_date                        0.025171     0.014516   -0.014738  \n",
       "surge_pct                          0.028221    -0.010150    0.012851  \n",
       "trips_in_first_30_days             0.069631    -0.096949    0.099110  \n",
       "ultimate_black_user                0.039649    -0.075836    0.067002  \n",
       "weekday_pct                        0.031349    -0.009241    0.006726  \n",
       "active                             0.262419    -0.230074    0.229691  \n",
       "city_Astapor                      -0.354298     0.025642   -0.024539  \n",
       "city_King's Landing                1.000000    -0.059203    0.060520  \n",
       "pho_Android                       -0.059203     1.000000   -0.981471  \n",
       "pho_iPhone                         0.060520    -0.981471    1.000000  "
      ]
     },
     "execution_count": 495,
     "metadata": {},
     "output_type": "execute_result"
    }
   ],
   "source": [
    "\n",
    "# Correlation matrix\n",
    "corr_matrix = ultimate.corr()\n",
    "corr_matrix"
   ]
  },
  {
   "cell_type": "markdown",
   "metadata": {},
   "source": [
    "avg_surge and surge_pct correlate with each other.  I should remove one."
   ]
  },
  {
   "cell_type": "markdown",
   "metadata": {},
   "source": [
    "### FEATURE ENGINEERING:  \n",
    "this will be brief; I'm sure there's a lot more I could explore.  \n",
    "I'll start with converting CITY and PHONE to boolean variables."
   ]
  },
  {
   "cell_type": "code",
   "execution_count": 461,
   "metadata": {},
   "outputs": [],
   "source": [
    "# create new boolean categories to separate out CITY (1-2) and PHONE (1-2)\n",
    "# drop one of each, because redundant info\n",
    "city = pd.get_dummies(ultimate['city'],prefix='city') #create city binaries\n",
    "city = city.drop('city_Winterfell', axis=1) #drop one binary (all info contained in the remainder)\n",
    "ultimate = ultimate.drop('city',axis=1) #drop old city variable\n",
    "ultimate = ultimate.join(city) #attach binaries to the dataframe\n",
    "\n",
    "pho = pd.get_dummies(ultimate['phone'],prefix='pho') #create phone binaries\n",
    "pho = pho.drop('pho_-1', axis=1)\n",
    "ultimate = ultimate.drop('phone',axis=1) #drop old phone variable\n",
    "ultimate = ultimate.join(pho) #attach binaries to the  dataframe\n",
    "\n",
    "# dates are strings.  Change them to 3 digin integer, so the classifier can read them.\n",
    "import re\n",
    "def date_to_number(line):\n",
    "    number = re.sub('-','' , line)  # remove dash\n",
    "    number = int(number[-3:])   #truncate to 3 digit integer\n",
    "    return number\n",
    "# clean the strings\n",
    "ultimate['signup_date'] = ultimate['signup_date'].apply(date_to_number)\n",
    "ultimate['last_trip_date'] = ultimate['last_trip_date'].apply(date_to_number)"
   ]
  },
  {
   "cell_type": "code",
   "execution_count": 453,
   "metadata": {},
   "outputs": [
    {
     "name": "stdout",
     "output_type": "stream",
     "text": [
      "101\n",
      "131\n"
     ]
    }
   ],
   "source": [
    "print(min(ultimate.signup_date))\n",
    "print(max(ultimate.signup_date))"
   ]
  },
  {
   "cell_type": "code",
   "execution_count": 451,
   "metadata": {},
   "outputs": [
    {
     "data": {
      "text/plain": [
       "[101, 102, 103, 104]"
      ]
     },
     "execution_count": 451,
     "metadata": {},
     "output_type": "execute_result"
    }
   ],
   "source": [
    "a = ['2014-01-01','2014-01-02','2014-01-03','2014-01-04']\n",
    "\n",
    "def date_to_number(line):\n",
    "    number = re.sub('-','' , line)  # remove dash\n",
    "    number = int(number[-3:])   #truncate to 3 digit integer\n",
    "    return number\n",
    "\n",
    "for count, i in enumerate(a):\n",
    "    a[count] = date_to_number(i)\n",
    "\n",
    "a"
   ]
  },
  {
   "cell_type": "code",
   "execution_count": null,
   "metadata": {},
   "outputs": [],
   "source": []
  },
  {
   "cell_type": "code",
   "execution_count": null,
   "metadata": {},
   "outputs": [],
   "source": []
  },
  {
   "cell_type": "code",
   "execution_count": null,
   "metadata": {},
   "outputs": [],
   "source": []
  },
  {
   "cell_type": "code",
   "execution_count": null,
   "metadata": {},
   "outputs": [],
   "source": []
  },
  {
   "cell_type": "code",
   "execution_count": 406,
   "metadata": {},
   "outputs": [
    {
     "name": "stdout",
     "output_type": "stream",
     "text": [
      "0    NaN\n",
      "1    NaN\n",
      "2    NaN\n",
      "3    NaN\n",
      "4    NaN\n",
      "5    NaN\n",
      "6    NaN\n",
      "7    NaN\n",
      "8    NaN\n",
      "9    NaN\n",
      "Name: last_trip_date, dtype: object\n"
     ]
    }
   ],
   "source": [
    "print(ultimate['last_trip_date'][:10])"
   ]
  },
  {
   "cell_type": "code",
   "execution_count": null,
   "metadata": {},
   "outputs": [],
   "source": []
  },
  {
   "cell_type": "code",
   "execution_count": 390,
   "metadata": {},
   "outputs": [
    {
     "data": {
      "text/plain": [
       "Index(['avg_dist', 'avg_rating_by_driver', 'avg_rating_of_driver', 'avg_surge',\n",
       "       'last_trip_date', 'signup_date', 'surge_pct', 'trips_in_first_30_days',\n",
       "       'ultimate_black_user', 'weekday_pct', 'active', 'city_Astapor',\n",
       "       'city_King's Landing', 'pho_Android', 'pho_iPhone'],\n",
       "      dtype='object')"
      ]
     },
     "execution_count": 390,
     "metadata": {},
     "output_type": "execute_result"
    }
   ],
   "source": [
    "ultimate.columns"
   ]
  },
  {
   "cell_type": "code",
   "execution_count": 391,
   "metadata": {},
   "outputs": [
    {
     "data": {
      "text/html": [
       "<div>\n",
       "<style scoped>\n",
       "    .dataframe tbody tr th:only-of-type {\n",
       "        vertical-align: middle;\n",
       "    }\n",
       "\n",
       "    .dataframe tbody tr th {\n",
       "        vertical-align: top;\n",
       "    }\n",
       "\n",
       "    .dataframe thead th {\n",
       "        text-align: right;\n",
       "    }\n",
       "</style>\n",
       "<table border=\"1\" class=\"dataframe\">\n",
       "  <thead>\n",
       "    <tr style=\"text-align: right;\">\n",
       "      <th></th>\n",
       "      <th>avg_dist</th>\n",
       "      <th>avg_rating_by_driver</th>\n",
       "      <th>avg_rating_of_driver</th>\n",
       "      <th>avg_surge</th>\n",
       "      <th>last_trip_date</th>\n",
       "      <th>signup_date</th>\n",
       "      <th>surge_pct</th>\n",
       "      <th>trips_in_first_30_days</th>\n",
       "      <th>ultimate_black_user</th>\n",
       "      <th>weekday_pct</th>\n",
       "      <th>active</th>\n",
       "      <th>city_Astapor</th>\n",
       "      <th>city_King's Landing</th>\n",
       "      <th>pho_Android</th>\n",
       "      <th>pho_iPhone</th>\n",
       "    </tr>\n",
       "  </thead>\n",
       "  <tbody>\n",
       "    <tr>\n",
       "      <th>0</th>\n",
       "      <td>3.67</td>\n",
       "      <td>5.0</td>\n",
       "      <td>4.7</td>\n",
       "      <td>1.1</td>\n",
       "      <td>20140617</td>\n",
       "      <td>20140125</td>\n",
       "      <td>15.4</td>\n",
       "      <td>4</td>\n",
       "      <td>True</td>\n",
       "      <td>46.2</td>\n",
       "      <td>1</td>\n",
       "      <td>0</td>\n",
       "      <td>1</td>\n",
       "      <td>0</td>\n",
       "      <td>1</td>\n",
       "    </tr>\n",
       "    <tr>\n",
       "      <th>1</th>\n",
       "      <td>8.26</td>\n",
       "      <td>5.0</td>\n",
       "      <td>5.0</td>\n",
       "      <td>1.0</td>\n",
       "      <td>20140505</td>\n",
       "      <td>20140129</td>\n",
       "      <td>0.0</td>\n",
       "      <td>0</td>\n",
       "      <td>False</td>\n",
       "      <td>50.0</td>\n",
       "      <td>0</td>\n",
       "      <td>1</td>\n",
       "      <td>0</td>\n",
       "      <td>1</td>\n",
       "      <td>0</td>\n",
       "    </tr>\n",
       "    <tr>\n",
       "      <th>2</th>\n",
       "      <td>0.77</td>\n",
       "      <td>5.0</td>\n",
       "      <td>4.3</td>\n",
       "      <td>1.0</td>\n",
       "      <td>20140107</td>\n",
       "      <td>20140106</td>\n",
       "      <td>0.0</td>\n",
       "      <td>3</td>\n",
       "      <td>False</td>\n",
       "      <td>100.0</td>\n",
       "      <td>0</td>\n",
       "      <td>1</td>\n",
       "      <td>0</td>\n",
       "      <td>0</td>\n",
       "      <td>1</td>\n",
       "    </tr>\n",
       "  </tbody>\n",
       "</table>\n",
       "</div>"
      ],
      "text/plain": [
       "   avg_dist  avg_rating_by_driver  avg_rating_of_driver  avg_surge  \\\n",
       "0      3.67                   5.0                   4.7        1.1   \n",
       "1      8.26                   5.0                   5.0        1.0   \n",
       "2      0.77                   5.0                   4.3        1.0   \n",
       "\n",
       "  last_trip_date signup_date  surge_pct  trips_in_first_30_days  \\\n",
       "0       20140617    20140125       15.4                       4   \n",
       "1       20140505    20140129        0.0                       0   \n",
       "2       20140107    20140106        0.0                       3   \n",
       "\n",
       "   ultimate_black_user  weekday_pct  active  city_Astapor  \\\n",
       "0                 True         46.2       1             0   \n",
       "1                False         50.0       0             1   \n",
       "2                False        100.0       0             1   \n",
       "\n",
       "   city_King's Landing  pho_Android  pho_iPhone  \n",
       "0                    1            0           1  \n",
       "1                    0            1           0  \n",
       "2                    0            0           1  "
      ]
     },
     "execution_count": 391,
     "metadata": {},
     "output_type": "execute_result"
    }
   ],
   "source": [
    "ultimate.head(3)"
   ]
  },
  {
   "cell_type": "code",
   "execution_count": 392,
   "metadata": {},
   "outputs": [
    {
     "data": {
      "text/plain": [
       "(50000, 13)"
      ]
     },
     "execution_count": 392,
     "metadata": {},
     "output_type": "execute_result"
    }
   ],
   "source": [
    "X.shape"
   ]
  },
  {
   "cell_type": "code",
   "execution_count": null,
   "metadata": {},
   "outputs": [],
   "source": []
  },
  {
   "cell_type": "code",
   "execution_count": 522,
   "metadata": {},
   "outputs": [
    {
     "name": "stdout",
     "output_type": "stream",
     "text": [
      "             precision    recall  f1-score   support\n",
      "\n",
      "          0       0.80      0.73      0.77      9585\n",
      "          1       0.59      0.67      0.63      5415\n",
      "\n",
      "avg / total       0.72      0.71      0.72     15000\n",
      "\n",
      "Confusion matrix: \n",
      " TN  FP\n",
      " FN  TP\n",
      "[[7044 2541]\n",
      " [1769 3646]]\n"
     ]
    }
   ],
   "source": [
    "from sklearn.model_selection import train_test_split\n",
    "from sklearn.linear_model import LogisticRegression\n",
    "from sklearn.metrics import classification_report, confusion_matrix\n",
    "from sklearn import metrics\n",
    "\n",
    "X = ultimate.drop(['active'], axis=1).values  # X = predictor variables\n",
    "y = ultimate['active'].values  # y = target\n",
    "X_train,X_test,y_train,y_test = train_test_split(X, y, test_size= 0.3, random_state = 22)\n",
    "\n",
    "# intantiate and fit LogReg classifier\n",
    "clf = LogisticRegression(random_state=22,class_weight='balanced')\n",
    "clf.fit(X_train, y_train)\n",
    "\n",
    "# Predict the labels of the test set: y_pred\n",
    "y_pred = clf.predict(X_test)\n",
    "\n",
    "# Compute and print the confusion matrix and classification report\n",
    "print(classification_report(y_test, y_pred))\n",
    "print(\"Confusion matrix: \")\n",
    "print(\" TN  FP\")\n",
    "print(\" FN  TP\")\n",
    "print(confusion_matrix(y_test, y_pred))"
   ]
  },
  {
   "cell_type": "code",
   "execution_count": 524,
   "metadata": {},
   "outputs": [
    {
     "data": {
      "image/png": "[encoded data removed]",
      "text/plain": [
       "<matplotlib.figure.Figure at 0x1a30908cf8>"
      ]
     },
     "metadata": {},
     "output_type": "display_data"
    }
   ],
   "source": [
    "from  sklearn.metrics  import roc_curve\n",
    "\n",
    "# Compute predicted probabilities: y_pred_prob\n",
    "y_pred_prob = clf.predict_proba(X_test)[:,1]\n",
    "\n",
    "# Generate ROC curve values: fpr, tpr, thresholds\n",
    "fpr, tpr, thresholds = roc_curve(y_test, y_pred_prob)\n",
    "\n",
    "# Plot ROC curve\n",
    "plt.plot([0, 1], [0, 1], 'k--')\n",
    "plt.plot(fpr, tpr)\n",
    "plt.xlabel('False Positive Rate')\n",
    "plt.ylabel('True Positive Rate')\n",
    "plt.title('ROC Curve')\n",
    "plt.show()"
   ]
  },
  {
   "cell_type": "code",
   "execution_count": 587,
   "metadata": {},
   "outputs": [
    {
     "data": {
      "text/html": [
       "<div>\n",
       "<style scoped>\n",
       "    .dataframe tbody tr th:only-of-type {\n",
       "        vertical-align: middle;\n",
       "    }\n",
       "\n",
       "    .dataframe tbody tr th {\n",
       "        vertical-align: top;\n",
       "    }\n",
       "\n",
       "    .dataframe thead th {\n",
       "        text-align: right;\n",
       "    }\n",
       "</style>\n",
       "<table border=\"1\" class=\"dataframe\">\n",
       "  <thead>\n",
       "    <tr style=\"text-align: right;\">\n",
       "      <th></th>\n",
       "      <th>0</th>\n",
       "    </tr>\n",
       "  </thead>\n",
       "  <tbody>\n",
       "    <tr>\n",
       "      <th>avg_dist</th>\n",
       "      <td>-0.182676</td>\n",
       "    </tr>\n",
       "    <tr>\n",
       "      <th>avg_rating_by_driver</th>\n",
       "      <td>-0.815412</td>\n",
       "    </tr>\n",
       "    <tr>\n",
       "      <th>avg_rating_of_driver</th>\n",
       "      <td>-0.432967</td>\n",
       "    </tr>\n",
       "    <tr>\n",
       "      <th>avg_surge</th>\n",
       "      <td>0.151610</td>\n",
       "    </tr>\n",
       "    <tr>\n",
       "      <th>signup_date</th>\n",
       "      <td>-0.527262</td>\n",
       "    </tr>\n",
       "    <tr>\n",
       "      <th>trips_in_first_30_days</th>\n",
       "      <td>0.127391</td>\n",
       "    </tr>\n",
       "    <tr>\n",
       "      <th>ultimate_black_user</th>\n",
       "      <td>0.856669</td>\n",
       "    </tr>\n",
       "    <tr>\n",
       "      <th>weekday_pct</th>\n",
       "      <td>0.099975</td>\n",
       "    </tr>\n",
       "    <tr>\n",
       "      <th>city_Astapor</th>\n",
       "      <td>-0.531238</td>\n",
       "    </tr>\n",
       "    <tr>\n",
       "      <th>city_King's Landing</th>\n",
       "      <td>1.192818</td>\n",
       "    </tr>\n",
       "    <tr>\n",
       "      <th>pho_Android</th>\n",
       "      <td>-0.497781</td>\n",
       "    </tr>\n",
       "    <tr>\n",
       "      <th>pho_iPhone</th>\n",
       "      <td>0.627288</td>\n",
       "    </tr>\n",
       "  </tbody>\n",
       "</table>\n",
       "</div>"
      ],
      "text/plain": [
       "                               0\n",
       "avg_dist               -0.182676\n",
       "avg_rating_by_driver   -0.815412\n",
       "avg_rating_of_driver   -0.432967\n",
       "avg_surge               0.151610\n",
       "signup_date            -0.527262\n",
       "trips_in_first_30_days  0.127391\n",
       "ultimate_black_user     0.856669\n",
       "weekday_pct             0.099975\n",
       "city_Astapor           -0.531238\n",
       "city_King's Landing     1.192818\n",
       "pho_Android            -0.497781\n",
       "pho_iPhone              0.627288"
      ]
     },
     "execution_count": 587,
     "metadata": {},
     "output_type": "execute_result"
    }
   ],
   "source": [
    "# Feature importances  \n",
    "feature_importance = pd.DataFrame(clf.coef_).T \n",
    "feature_importance.index = list(ultimate.drop('active', axis=1).columns)\n",
    "feature_importance"
   ]
  },
  {
   "cell_type": "markdown",
   "metadata": {},
   "source": [
    "I used a linear regression model, simply because that's the easiest to undersand and it often yields good results.  A more robust analysis would compare other models, and might yield more information.  \n",
    "\n",
    "We can predict active retention with 72% precision.  Baseline is 64% (if we always predict NO retention, we'd be correct 64%.  Random guessing should yield about 57%.)  So we have some success!  This is with a minor amount of feature engineering.  If we standardized the variables better, and added a bit more evauluation, we might improve this.  \n",
    "I recommend more study, using other models, including a tree based classifier.  I also recommend more feature standardizaion, feature engineering, and tuning the parameters in the model.  \n",
    "\n",
    "From this analysis, we see the most important variables are:  \n",
    "King's Landing 1.19  \n",
    "black user 0.86  \n",
    "avg rating by driver -0.82  \n",
    "iPhone user 0.63  \n",
    "\n",
    "I have different recommendations regarding each of these:  \n",
    "1- Users who live in King's Landing are more loyal!  Examine the difference between cities.  Are more drivers available there?  Is there a group of loyal people who refer each other?  Is the city more conducive to rides?  There may be room to improve activity in the other cities.  \n",
    "2- Black users are more loyal.  Add incentives to get clients to try Ultimate Black.  \n",
    "3- High ratings by driver negatively correlate with loyalty!  This is counter-intuitive, and warrants examination.  Riders with higher ratings ride less often.  I recommend try an incentive for high rated riders who lapse.   \n",
    "4- iPhone users are loyal.  Examine and compare the apps.  I suggest improving the Android app.  "
   ]
  },
  {
   "cell_type": "code",
   "execution_count": null,
   "metadata": {},
   "outputs": [],
   "source": []
  },
  {
   "cell_type": "code",
   "execution_count": null,
   "metadata": {},
   "outputs": [],
   "source": []
  },
  {
   "cell_type": "code",
   "execution_count": null,
   "metadata": {},
   "outputs": [],
   "source": []
  },
  {
   "cell_type": "code",
   "execution_count": null,
   "metadata": {},
   "outputs": [],
   "source": []
  },
  {
   "cell_type": "code",
   "execution_count": null,
   "metadata": {},
   "outputs": [],
   "source": []
  },
  {
   "cell_type": "code",
   "execution_count": null,
   "metadata": {},
   "outputs": [],
   "source": []
  },
  {
   "cell_type": "code",
   "execution_count": null,
   "metadata": {},
   "outputs": [],
   "source": []
  },
  {
   "cell_type": "code",
   "execution_count": null,
   "metadata": {},
   "outputs": [],
   "source": [
    "#from stack overflow:\n",
    "agg_10m = df.groupby(pd.Grouper(freq='10Min')).aggregate(numpy.sum)\n",
    "\n",
    "---\n",
    "\n",
    "You can use DataFrame.resample:\n",
    "\n",
    "df2 = df.resample(rule='15Min', on='datetime').mean()\n",
    "Then you filter out the times you don't want using boolean indexing. It's better to work with a DateTimeIndex:\n",
    "\n",
    "df2 = df2.set_index('datetime', drop=False)\n",
    "df2.between_time('9:00','16:30')\n",
    "\n",
    "---\n",
    "\n",
    "df.index = pd.DatetimeIndex(df[1])\n",
    "df.loc[df[2]=='reward', 'rwg'] = range(1, sum(df[2]=='reward')+1 )\n",
    "dfrwg = df.groupby('rwg').sum()\n",
    "dfrs = df.resample('3min', how=sum)\n",
    "print(dfrwg)\n",
    "\n",
    "---\n",
    "\n",
    "df.index = pd.to_datetime(df.data, format='%d/%b/%Y:%H:%M:%S')\n",
    "df.groupby(pd.TimeGrouper('5Min')).apply(lambda x: x.groupby(['id', 'subdomain']).first())\n",
    "df1.resample(\"5Min\").sum()\n",
    "\n",
    "---\n",
    "\n",
    "df.groupby(pd.TimeGrouper(freq='60Min', base=30, label='right')).first()\n",
    "# same thing using resample - df.resample('60Min', base=30, label='right').first()"
   ]
  }
 ],
 "metadata": {
  "kernelspec": {
   "display_name": "Python 3",
   "language": "python",
   "name": "python3"
  },
  "language_info": {
   "codemirror_mode": {
    "name": "ipython",
    "version": 3
   },
   "file_extension": ".py",
   "mimetype": "text/x-python",
   "name": "python",
   "nbconvert_exporter": "python",
   "pygments_lexer": "ipython3",
   "version": "3.6.4"
  }
 },
 "nbformat": 4,
 "nbformat_minor": 2
}
